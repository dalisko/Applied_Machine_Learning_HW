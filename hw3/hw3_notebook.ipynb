{
  "nbformat": 4,
  "nbformat_minor": 0,
  "metadata": {
    "colab": {
      "name": "ORIE5750_HW3_mcw232_kn442.ipynb",
      "provenance": [],
      "collapsed_sections": []
    },
    "kernelspec": {
      "name": "python3",
      "display_name": "Python 3"
    }
  },
  "cells": [
    {
      "cell_type": "code",
      "metadata": {
        "id": "HJWFdGkscNc7",
        "colab_type": "code",
        "colab": {}
      },
      "source": [
        "from google.colab import files\n",
        "import numpy as np\n",
        "import pandas as pd\n",
        "from matplotlib.pyplot import imread\n",
        "from matplotlib import pylab as plt\n",
        "import matplotlib.cm as cm\n",
        "%matplotlib inline\n",
        "\n",
        "from sklearn.cluster import KMeans\n",
        "from sklearn import metrics\n",
        "from scipy.spatial.distance import cdist\n",
        "\n",
        "import scipy.stats\n",
        "import random"
      ],
      "execution_count": 0,
      "outputs": []
    },
    {
      "cell_type": "code",
      "metadata": {
        "id": "VWVA2oc8cjwv",
        "colab_type": "code",
        "colab": {}
      },
      "source": [
        "from google.colab import drive\n",
        "drive.mount('/content/drive')"
      ],
      "execution_count": 0,
      "outputs": []
    },
    {
      "cell_type": "markdown",
      "metadata": {
        "id": "7eGNPCEIVSm_",
        "colab_type": "text"
      },
      "source": [
        "##ORIE 5750 - Homework 3\n",
        "\n",
        "###Maxwell Wulff mcw232 , Konstantinos Ntalis kn442 "
      ]
    },
    {
      "cell_type": "markdown",
      "metadata": {
        "id": "pt0vZhd2VYgU",
        "colab_type": "text"
      },
      "source": [
        "###Problem 1: Eigenface for face recognition"
      ]
    },
    {
      "cell_type": "markdown",
      "metadata": {
        "id": "8uI9V7ZEVFbv",
        "colab_type": "text"
      },
      "source": [
        "###a & b) Loading the training set"
      ]
    },
    {
      "cell_type": "code",
      "metadata": {
        "id": "QBf_8HRQds9f",
        "colab_type": "code",
        "colab": {}
      },
      "source": [
        "train_labels, train_data = [], []\n",
        "\n",
        "for line in open('/content/drive/My Drive/AML - Fall 2019/faces/train_faces.txt'):\n",
        "  im = imread('/content/drive/My Drive/AML - Fall 2019'+line.strip().split()[0][1:])\n",
        "  train_data.append(im.reshape(2500,))\n",
        "  train_labels.append(line.strip().split()[1])\n",
        "train_data, train_labels = np.array(train_data, dtype=float), np.array(train_labels, dtype=int)"
      ],
      "execution_count": 0,
      "outputs": []
    },
    {
      "cell_type": "markdown",
      "metadata": {
        "id": "rMewiYQLVJab",
        "colab_type": "text"
      },
      "source": [
        "###and the test set"
      ]
    },
    {
      "cell_type": "code",
      "metadata": {
        "id": "7_ES6RJYU8tF",
        "colab_type": "code",
        "colab": {}
      },
      "source": [
        "test_labels, test_data = [], []\n",
        "\n",
        "for line in open('/content/drive/My Drive/AML - Fall 2019/faces/test_faces.txt'):\n",
        "  im = imread('/content/drive/My Drive/AML - Fall 2019'+line.strip().split()[0][1:])\n",
        "  test_data.append(im.reshape(2500,))\n",
        "  test_labels.append(line.strip().split()[1])\n",
        "test_data, test_labels = np.array(test_data, dtype=float), np.array(test_labels, dtype=int)"
      ],
      "execution_count": 0,
      "outputs": []
    },
    {
      "cell_type": "code",
      "metadata": {
        "id": "4Oe8-ayyfCF-",
        "colab_type": "code",
        "colab": {}
      },
      "source": [
        "print(train_data.shape, train_labels.shape)\n",
        "plt.imshow(train_data[10, :].reshape(50,50), cmap = cm.Greys_r)\n",
        "plt.show()"
      ],
      "execution_count": 0,
      "outputs": []
    },
    {
      "cell_type": "code",
      "metadata": {
        "id": "h5oVnUNwVtfx",
        "colab_type": "code",
        "colab": {}
      },
      "source": [
        "print(test_data.shape, test_labels.shape)\n",
        "plt.imshow(test_data[10, :].reshape(50,50), cmap = cm.Greys_r)\n",
        "plt.show()"
      ],
      "execution_count": 0,
      "outputs": []
    },
    {
      "cell_type": "markdown",
      "metadata": {
        "id": "I--nyl8xWMMT",
        "colab_type": "text"
      },
      "source": [
        "###c) Average Face"
      ]
    },
    {
      "cell_type": "code",
      "metadata": {
        "id": "KNxT9FaRWhXH",
        "colab_type": "code",
        "colab": {}
      },
      "source": [
        "avg_face = np.sum(train_data, axis = 0)/train_data.shape[0]\n",
        "plt.imshow(avg_face.reshape(50,50), cmap = cm.Greys_r)"
      ],
      "execution_count": 0,
      "outputs": []
    },
    {
      "cell_type": "markdown",
      "metadata": {
        "id": "uG7j5RbdXHTR",
        "colab_type": "text"
      },
      "source": [
        "###d) Mean subtraction - train set"
      ]
    },
    {
      "cell_type": "code",
      "metadata": {
        "id": "nJ-01qgfXeYj",
        "colab_type": "code",
        "colab": {}
      },
      "source": [
        "train_mean_sub = train_data - avg_face\n",
        "plt.imshow(train_mean_sub[10, :].reshape(50,50), cmap = cm.Greys_r)"
      ],
      "execution_count": 0,
      "outputs": []
    },
    {
      "cell_type": "markdown",
      "metadata": {
        "id": "u-OnjNEVbW2V",
        "colab_type": "text"
      },
      "source": [
        "###Mean subtraction - test set"
      ]
    },
    {
      "cell_type": "code",
      "metadata": {
        "id": "f3Mud3OIbarC",
        "colab_type": "code",
        "colab": {}
      },
      "source": [
        "test_mean_sub = test_data - avg_face\n",
        "plt.imshow(test_mean_sub[10, :].reshape(50,50), cmap = cm.Greys_r)"
      ],
      "execution_count": 0,
      "outputs": []
    },
    {
      "cell_type": "markdown",
      "metadata": {
        "id": "V6DzxzwXb2pt",
        "colab_type": "text"
      },
      "source": [
        "###e) Eigenface"
      ]
    },
    {
      "cell_type": "code",
      "metadata": {
        "id": "ePjWoRvhcPSV",
        "colab_type": "code",
        "colab": {}
      },
      "source": [
        "u, s, vt = np.linalg.svd(train_mean_sub, full_matrices = True)"
      ],
      "execution_count": 0,
      "outputs": []
    },
    {
      "cell_type": "code",
      "metadata": {
        "id": "i9e7mpVDccry",
        "colab_type": "code",
        "colab": {}
      },
      "source": [
        "for i in range(10):\n",
        "  plt.imshow(vt[i, :].reshape(50,50), cmap = cm.Greys_r)\n",
        "  plt.show()"
      ],
      "execution_count": 0,
      "outputs": []
    },
    {
      "cell_type": "markdown",
      "metadata": {
        "id": "tNzeZxFOfihM",
        "colab_type": "text"
      },
      "source": [
        "###Low-rank Approximation"
      ]
    },
    {
      "cell_type": "code",
      "metadata": {
        "id": "HDnSxNuXfjgU",
        "colab_type": "code",
        "colab": {}
      },
      "source": [
        "def low_rank_approx(A,r):\n",
        "    u, s, v = SVD = np.linalg.svd(A, full_matrices = False)\n",
        "    u_s = np.dot(u[:,:r],np.diag(s)[:r,:r])\n",
        "    Ar = np.dot(u_s,v[:r,:])\n",
        "    return Ar,v"
      ],
      "execution_count": 0,
      "outputs": []
    },
    {
      "cell_type": "code",
      "metadata": {
        "id": "l8jh_brKhENk",
        "colab_type": "code",
        "colab": {}
      },
      "source": [
        "error = []\n",
        "for r in range(1,201):\n",
        "  X_r = low_rank_approx(train_mean_sub,r)[0]\n",
        "  error.append(np.linalg.norm(train_mean_sub-X_r))"
      ],
      "execution_count": 0,
      "outputs": []
    },
    {
      "cell_type": "code",
      "metadata": {
        "id": "iwBNqi_NJxfu",
        "colab_type": "code",
        "colab": {}
      },
      "source": [
        "plt.plot(range(1,201),error)\n",
        "plt.xlabel('r')\n",
        "plt.ylabel('Error')\n",
        "plt.title('Rank approximation error as we vary r')"
      ],
      "execution_count": 0,
      "outputs": []
    },
    {
      "cell_type": "markdown",
      "metadata": {
        "id": "yxxWh4V4vCte",
        "colab_type": "text"
      },
      "source": [
        "###g) Eigenface Feature"
      ]
    },
    {
      "cell_type": "code",
      "metadata": {
        "id": "wq-ocaLzvJyb",
        "colab_type": "code",
        "colab": {}
      },
      "source": [
        "def eig_feature(X,r):\n",
        "  V = low_rank_approx(train_mean_sub,r)[1]\n",
        "  V = V[:r,:].transpose()\n",
        "  F = np.dot(X,V)\n",
        "  return F"
      ],
      "execution_count": 0,
      "outputs": []
    },
    {
      "cell_type": "code",
      "metadata": {
        "id": "Zn3E9ilP0FJ4",
        "colab_type": "code",
        "colab": {}
      },
      "source": [
        "r = 10\n",
        "F = eig_feature(train_mean_sub, r)\n",
        "F_test = eig_feature(test_mean_sub, r)"
      ],
      "execution_count": 0,
      "outputs": []
    },
    {
      "cell_type": "code",
      "metadata": {
        "id": "e5Mck6Np7xI_",
        "colab_type": "code",
        "outputId": "59984db3-5040-4c89-8202-6be74bb403d8",
        "colab": {
          "base_uri": "https://localhost:8080/",
          "height": 34
        }
      },
      "source": [
        "print(F.shape, F_test.shape)"
      ],
      "execution_count": 0,
      "outputs": [
        {
          "output_type": "stream",
          "text": [
            "(540, 10) (100, 10)\n"
          ],
          "name": "stdout"
        }
      ]
    },
    {
      "cell_type": "markdown",
      "metadata": {
        "id": "7_kQahyk0_Pr",
        "colab_type": "text"
      },
      "source": [
        "###h) Face recognition"
      ]
    },
    {
      "cell_type": "code",
      "metadata": {
        "id": "SJz_qS7X-JO3",
        "colab_type": "code",
        "colab": {}
      },
      "source": [
        "from sklearn.linear_model import LogisticRegression\n",
        "\n",
        "model = LogisticRegression(multi_class = 'ovr', solver = 'lbfgs').fit(F, train_labels)\n",
        "y_pred = model.predict(F_test)"
      ],
      "execution_count": 0,
      "outputs": []
    },
    {
      "cell_type": "code",
      "metadata": {
        "id": "SMnU9k28AbON",
        "colab_type": "code",
        "outputId": "7784f474-38b8-42f6-c5bf-023c5d1be5ae",
        "colab": {
          "base_uri": "https://localhost:8080/",
          "height": 34
        }
      },
      "source": [
        "from sklearn.metrics import accuracy_score\n",
        "\n",
        "acc = accuracy_score(test_labels, y_pred)\n",
        "acc"
      ],
      "execution_count": 0,
      "outputs": [
        {
          "output_type": "execute_result",
          "data": {
            "text/plain": [
              "0.83"
            ]
          },
          "metadata": {
            "tags": []
          },
          "execution_count": 23
        }
      ]
    },
    {
      "cell_type": "markdown",
      "metadata": {
        "id": "HofMka3iA9Rq",
        "colab_type": "text"
      },
      "source": [
        "###Varying r"
      ]
    },
    {
      "cell_type": "code",
      "metadata": {
        "id": "r8R5jxqrA-z_",
        "colab_type": "code",
        "colab": {}
      },
      "source": [
        "acc_list = []\n",
        "for r in range(1,201):\n",
        "  F = eig_feature(train_mean_sub, r)\n",
        "  F_test = eig_feature(test_mean_sub, r)\n",
        "  model = LogisticRegression(multi_class = 'ovr', solver = 'lbfgs').fit(F, train_labels)\n",
        "  acc = accuracy_score(test_labels, model.predict(F_test))\n",
        "  acc_list.append(acc)"
      ],
      "execution_count": 0,
      "outputs": []
    },
    {
      "cell_type": "code",
      "metadata": {
        "id": "O5_Bx1sdJS4d",
        "colab_type": "code",
        "colab": {}
      },
      "source": [
        "plt.plot(range(1,201),acc_list)\n",
        "plt.xlabel('r')\n",
        "plt.ylabel('Accuracy')\n",
        "plt.title('Classification accuracy as we vary r')"
      ],
      "execution_count": 0,
      "outputs": []
    },
    {
      "cell_type": "markdown",
      "metadata": {
        "id": "vheHd-pB0eGy",
        "colab_type": "text"
      },
      "source": [
        "###Problem 2: Clustering for text analysis"
      ]
    },
    {
      "cell_type": "code",
      "metadata": {
        "id": "Y32Z8m6Gvigp",
        "colab_type": "code",
        "colab": {}
      },
      "source": [
        "doc_word = np.load(\"/content/drive/My Drive/AML - Fall 2019/clustering/science2k-doc-word.npy\")\n",
        "word_doc = np.load(\"/content/drive/My Drive/AML - Fall 2019/clustering/science2k-word-doc.npy\")\n",
        "words = pd.read_csv(\"/content/drive/My Drive/AML - Fall 2019/clustering/science2k-vocab.txt\")\n",
        "titles = pd.read_csv(\"/content/drive/My Drive/AML - Fall 2019/clustering/science2k-titles.txt\")"
      ],
      "execution_count": 0,
      "outputs": []
    },
    {
      "cell_type": "markdown",
      "metadata": {
        "id": "EhVJOmUnw7Am",
        "colab_type": "text"
      },
      "source": [
        "###a) K-means"
      ]
    },
    {
      "cell_type": "code",
      "metadata": {
        "id": "LfkGYbxmw9ck",
        "colab_type": "code",
        "colab": {}
      },
      "source": [
        "dst = []\n",
        "\n",
        "for i in range(1,20):\n",
        "  print(i)\n",
        "  kmeans = KMeans(n_clusters = i, random_state=0).fit(doc_word)\n",
        "  dst.append(sum(np.min(cdist(doc_word, kmeans.cluster_centers_, 'euclidean'), axis=1)) / doc_word.shape[0])"
      ],
      "execution_count": 0,
      "outputs": []
    },
    {
      "cell_type": "code",
      "metadata": {
        "id": "BqmHhip2HGME",
        "colab_type": "code",
        "colab": {}
      },
      "source": [
        "plt.plot(range(1,20), dst, 'bx-')\n",
        "plt.xlabel('k')\n",
        "plt.ylabel('Distortion')\n",
        "plt.title('The Elbow Method showing the optimal k')\n",
        "plt.show()\n",
        "\n",
        "#Choose 4"
      ],
      "execution_count": 0,
      "outputs": []
    },
    {
      "cell_type": "markdown",
      "metadata": {
        "id": "og_44VQuBnKJ",
        "colab_type": "text"
      },
      "source": [
        "###doc_word - frequent words"
      ]
    },
    {
      "cell_type": "code",
      "metadata": {
        "id": "A9X1--3k3JhG",
        "colab_type": "code",
        "colab": {}
      },
      "source": [
        "kmeans = KMeans(n_clusters = 4, random_state=0).fit(doc_word)"
      ],
      "execution_count": 0,
      "outputs": []
    },
    {
      "cell_type": "code",
      "metadata": {
        "id": "OKdChnbj3gXC",
        "colab_type": "code",
        "colab": {}
      },
      "source": [
        "center = np.mean(doc_word, axis = 0)\n",
        "cluster_centers = kmeans.cluster_centers_"
      ],
      "execution_count": 0,
      "outputs": []
    },
    {
      "cell_type": "code",
      "metadata": {
        "id": "vEgQu8VK4SxS",
        "colab_type": "code",
        "colab": {}
      },
      "source": [
        "#Index of words farthest from true center in each cluster\n",
        "wordvals = []\n",
        "for i in range(4):\n",
        "  wordvals.append(np.argsort(cluster_centers[i,:] - center)[-10:][::-1])"
      ],
      "execution_count": 0,
      "outputs": []
    },
    {
      "cell_type": "code",
      "metadata": {
        "id": "BzMsRel25oRU",
        "colab_type": "code",
        "colab": {}
      },
      "source": [
        "#pull the most common words for each based on the index\n",
        "cwords = []\n",
        "for i in range(4):\n",
        "  cwords.append(np.array(words.iloc[wordvals[i]]))"
      ],
      "execution_count": 0,
      "outputs": []
    },
    {
      "cell_type": "code",
      "metadata": {
        "id": "KIHACKEON4j4",
        "colab_type": "code",
        "colab": {}
      },
      "source": [
        "#create a DataFrame\n",
        "pd.concat([pd.DataFrame(cwords[0]), pd.DataFrame(cwords[1]), pd.DataFrame(cwords[2]), pd.DataFrame(cwords[3]) ],\n",
        "          axis = 1, ignore_index= True)"
      ],
      "execution_count": 0,
      "outputs": []
    },
    {
      "cell_type": "markdown",
      "metadata": {
        "id": "PwKVxaP0Q4M4",
        "colab_type": "text"
      },
      "source": [
        "###This can tell us words commonly associated with titles that are grouped together. ie if a group of titles is identified, these words are the ones that make these titles unique from all others."
      ]
    },
    {
      "cell_type": "markdown",
      "metadata": {
        "id": "MXhNJvuezE4D",
        "colab_type": "text"
      },
      "source": [
        "###doc_word - frequent titles"
      ]
    },
    {
      "cell_type": "code",
      "metadata": {
        "id": "5tCCDGN88e8w",
        "colab_type": "code",
        "colab": {}
      },
      "source": [
        "#Index of titles farthest from true center in each cluster\n",
        "titlevals = []\n",
        "for i in range(4):\n",
        "  titlevals.append(np.argsort(np.sum(np.square((cluster_centers[i,:] - doc_word[np.where(kmeans.labels_ == i)])), axis = 1))[:10])"
      ],
      "execution_count": 0,
      "outputs": []
    },
    {
      "cell_type": "code",
      "metadata": {
        "id": "dQR1RDiPQcfG",
        "colab_type": "code",
        "colab": {}
      },
      "source": [
        "#pull the most common titles for each based on the index\n",
        "ctitles = []\n",
        "for i in range(4):\n",
        "  ctitles.append(np.array(titles.iloc[wordvals[i]]))"
      ],
      "execution_count": 0,
      "outputs": []
    },
    {
      "cell_type": "code",
      "metadata": {
        "id": "OHKltD7hQkTV",
        "colab_type": "code",
        "colab": {}
      },
      "source": [
        "pd.concat([pd.DataFrame(ctitles[0]), pd.DataFrame(ctitles[1]), pd.DataFrame(ctitles[2]), pd.DataFrame(ctitles[3])],\n",
        "          axis = 1, ignore_index= True)"
      ],
      "execution_count": 0,
      "outputs": []
    },
    {
      "cell_type": "markdown",
      "metadata": {
        "id": "r4eCZqNuRPvA",
        "colab_type": "text"
      },
      "source": [
        "This can show us titles that are close in language, titles that use language common to eachother, and dissimliar from other titles categorized elsewhere. They could potentially be different genres or research topics, or different categories of study (ie new findings vs review vs redaction.)"
      ]
    },
    {
      "cell_type": "markdown",
      "metadata": {
        "id": "JC7Y1uK_BrHG",
        "colab_type": "text"
      },
      "source": [
        "###word_doc\n"
      ]
    },
    {
      "cell_type": "code",
      "metadata": {
        "id": "-evAd_glR544",
        "colab_type": "code",
        "colab": {}
      },
      "source": [
        "dst = []\n",
        "\n",
        "for i in range(1,21):\n",
        "  print(i)\n",
        "  kmeans = KMeans(n_clusters = i, random_state=0).fit(word_doc)\n",
        "  dst.append(sum(np.min(cdist(word_doc, kmeans.cluster_centers_, 'euclidean'), axis=1)) / word_doc.shape[0])"
      ],
      "execution_count": 0,
      "outputs": []
    },
    {
      "cell_type": "code",
      "metadata": {
        "id": "auBnr37LR_wn",
        "colab_type": "code",
        "colab": {}
      },
      "source": [
        "plt.plot(range(1,21), dst, 'bx-')\n",
        "plt.xlabel('k')\n",
        "plt.ylabel('Distortion')\n",
        "plt.title('The Elbow Method showing the optimal k')\n",
        "plt.show()\n",
        "\n",
        "#Choose 4"
      ],
      "execution_count": 0,
      "outputs": []
    },
    {
      "cell_type": "code",
      "metadata": {
        "id": "csdujTVeBuR_",
        "colab_type": "code",
        "colab": {}
      },
      "source": [
        "kmeans_wd = KMeans(n_clusters = 4, random_state=0).fit(word_doc)"
      ],
      "execution_count": 0,
      "outputs": []
    },
    {
      "cell_type": "markdown",
      "metadata": {
        "id": "rxolINiTzQMs",
        "colab_type": "text"
      },
      "source": [
        "###frequent titles"
      ]
    },
    {
      "cell_type": "code",
      "metadata": {
        "id": "7iLtAAgZXlpe",
        "colab_type": "code",
        "colab": {}
      },
      "source": [
        "center_wd = np.mean(word_doc, axis = 0)\n",
        "cluster_centers_wd = kmeans_wd.cluster_centers_"
      ],
      "execution_count": 0,
      "outputs": []
    },
    {
      "cell_type": "code",
      "metadata": {
        "id": "wZVUYKavYMT3",
        "colab_type": "code",
        "colab": {}
      },
      "source": [
        "titvals = []\n",
        "for i in range(4): \n",
        "  titvals.append(np.argsort(cluster_centers_wd[i,:] - center_wd)[-10:][::-1])"
      ],
      "execution_count": 0,
      "outputs": []
    },
    {
      "cell_type": "code",
      "metadata": {
        "id": "GEn4-OIMYS_R",
        "colab_type": "code",
        "colab": {}
      },
      "source": [
        "ctits_wd = []\n",
        "for i in range(4):\n",
        "  ctits_wd.append(np.array(titles.iloc[titvals[i]]))"
      ],
      "execution_count": 0,
      "outputs": []
    },
    {
      "cell_type": "code",
      "metadata": {
        "id": "U_rcHL_6Tqvb",
        "colab_type": "code",
        "colab": {}
      },
      "source": [
        "pd.concat([pd.DataFrame(ctits_wd[0]), pd.DataFrame(ctits_wd[1]), pd.DataFrame(ctits_wd[2]), pd.DataFrame(ctits_wd[3])],\n",
        "          axis = 1, ignore_index= True)"
      ],
      "execution_count": 0,
      "outputs": []
    },
    {
      "cell_type": "markdown",
      "metadata": {
        "id": "ksL2H7KHzTJD",
        "colab_type": "text"
      },
      "source": [
        "###frequent words"
      ]
    },
    {
      "cell_type": "code",
      "metadata": {
        "id": "gqQs6HTuZKGQ",
        "colab_type": "code",
        "colab": {}
      },
      "source": [
        "worvals = []\n",
        "for i in range(4):\n",
        "  worvals.append(np.argsort(np.sum(np.square((cluster_centers_wd[i,:] - word_doc[np.where(kmeans_wd.labels_ == i)])), axis = 1))[:10])"
      ],
      "execution_count": 0,
      "outputs": []
    },
    {
      "cell_type": "code",
      "metadata": {
        "id": "2gyLffp-UP8Z",
        "colab_type": "code",
        "colab": {}
      },
      "source": [
        "cwors_wd = []\n",
        "for i in range(4):\n",
        "  cwors_wd.append(np.array(words.iloc[worvals[i]]))"
      ],
      "execution_count": 0,
      "outputs": []
    },
    {
      "cell_type": "code",
      "metadata": {
        "id": "8fn2LDDPZQyQ",
        "colab_type": "code",
        "colab": {}
      },
      "source": [
        "pd.concat([pd.DataFrame(cwors_wd[0]), pd.DataFrame(cwors_wd[1]), pd.DataFrame(cwors_wd[2]), pd.DataFrame(cwors_wd[3])],\n",
        "          axis = 1, ignore_index= True)"
      ],
      "execution_count": 0,
      "outputs": []
    },
    {
      "cell_type": "markdown",
      "metadata": {
        "id": "sABBLw3xZziT",
        "colab_type": "text"
      },
      "source": [
        "###Problem 3: EM algorithm and implementation"
      ]
    },
    {
      "cell_type": "markdown",
      "metadata": {
        "id": "PdrzL-56oARP",
        "colab_type": "text"
      },
      "source": [
        "###b) Parsing and plotting the data points"
      ]
    },
    {
      "cell_type": "code",
      "metadata": {
        "id": "zvLuqIBDZ2OX",
        "colab_type": "code",
        "colab": {}
      },
      "source": [
        "OF = pd.read_csv(\"/content/drive/My Drive/AML - Fall 2019/oldFaithfulDataSet.csv\")"
      ],
      "execution_count": 0,
      "outputs": []
    },
    {
      "cell_type": "code",
      "metadata": {
        "id": "YCbH8meCcTX6",
        "colab_type": "code",
        "outputId": "439043e4-d10c-4b16-9ae5-66c295f2f15f",
        "colab": {
          "base_uri": "https://localhost:8080/",
          "height": 300
        }
      },
      "source": [
        "OF.plot.scatter('eruptions', 'waiting')"
      ],
      "execution_count": 0,
      "outputs": [
        {
          "output_type": "execute_result",
          "data": {
            "text/plain": [
              "<matplotlib.axes._subplots.AxesSubplot at 0x7feaa9af59b0>"
            ]
          },
          "metadata": {
            "tags": []
          },
          "execution_count": 74
        },
        {
          "output_type": "display_data",
          "data": {
            "image/png": "[encoded data removed]",
            "text/plain": [
              "<Figure size 432x288 with 1 Axes>"
            ]
          },
          "metadata": {
            "tags": []
          }
        }
      ]
    },
    {
      "cell_type": "markdown",
      "metadata": {
        "id": "XShaq863oFET",
        "colab_type": "text"
      },
      "source": [
        "###c) Bimodal GMM model"
      ]
    },
    {
      "cell_type": "code",
      "metadata": {
        "id": "3ncnsI9e94vC",
        "colab_type": "code",
        "colab": {}
      },
      "source": [
        "grp = 2 #bimodal\n",
        "\n",
        "#initialize cluster responsibility\n",
        "gamma = np.zeros([OF.shape[0], grp])\n",
        "\n",
        "#random initialization of means & variances\n",
        "emean = [float(OF['eruptions'].sample()),float(OF['eruptions'].sample())]\n",
        "evar = [np.sum((np.array(OF['eruptions']-np.array(emean[0])))**2)/OF.shape[0], np.sum((np.array(OF['eruptions']-np.array(emean[1])))**2)/OF.shape[0]]\n",
        "wmean = [float(OF['waiting'].sample()),float(OF['waiting'].sample())]\n",
        "wvar = [np.sum((np.array(OF['waiting']-np.array(emean[0])))**2)/OF.shape[0], np.sum((np.array(OF['waiting']-np.array(emean[1])))**2)/OF.shape[0]]\n",
        "\n",
        "#initializing the distribution of each class\n",
        "p0 = np.random.rand()\n",
        "pi_ = [p0,1-p0]\n",
        "\n",
        "#empty lists for the parameter trajectories, and the log-likelihood function\n",
        "emean0_traj, emean1_traj, wmean0_traj, wmean1_traj = ([] for i in range(4))\n",
        "LL_list = []\n",
        "previous_log = 100\n",
        "log_likelihood = 200\n",
        "count = 0\n",
        "\n",
        "#keep on updating the parameters until the log-likelihood stops changing\n",
        "while abs(log_likelihood-previous_log) > 0.001:  \n",
        "  \n",
        "  emean0_traj.append(emean[0])\n",
        "  emean1_traj.append(emean[1])\n",
        "  wmean0_traj.append(wmean[0])\n",
        "  wmean1_traj.append(wmean[1])\n",
        "  \n",
        "  #calculating the multivariate normals using the parameters (note that we declare the covariance matrix using the spherical assumption)\n",
        "  pdfs = np.zeros([gamma.shape[0], grp])\n",
        "  for i in range(gamma.shape[0]):\n",
        "    for j in range(grp):\n",
        "      pdfs[i,j] = scipy.stats.multivariate_normal.pdf(np.array(OF.iloc[i,:]), mean = [emean[j], wmean[j]], cov = [[evar[j],0],[0, wvar[j]]])\n",
        "      \n",
        "  #updating the cluster responsibility    \n",
        "  for i in range(gamma.shape[0]):\n",
        "    denom = sum(pi_*pdfs[i,:])\n",
        "    t = np.zeros(grp)\n",
        "    for j in range(grp):\n",
        "        gamma[i,j] = pi_[j]*pdfs[i,j]/denom\n",
        "      \n",
        "      \n",
        "  emean = []\n",
        "  evar = []\n",
        "  wmean = []\n",
        "  wvar = []\n",
        "  pi_ = []\n",
        "\n",
        "  #calculating the new parameters given the cluster responsibilities\n",
        "  for j in range(grp):\n",
        "      emean.append(sum(gamma[:,j]*np.array(OF['eruptions']))/sum(gamma[:,j]))\n",
        "      wmean.append(sum(gamma[:,j]*np.array(OF['waiting']))/sum(gamma[:,j]))\n",
        "      evar.append(sum(gamma[:,j]*(np.array(OF['eruptions']-emean[j])**2))/sum(gamma[:,j]))\n",
        "      wvar.append(sum(gamma[:,j]*(np.array(OF['waiting']-emean[j])**2))/sum(gamma[:,j]))\n",
        "\n",
        "      pi_.append(sum(gamma[:,j])/sum(sum(gamma)))\n",
        "  \n",
        "  \n",
        "  #updating the log-likelihood \n",
        "  previous_log = log_likelihood\n",
        "  log_likelihood = np.sum(np.log(pi_[0]*pdfs[:,0])+np.log(pi_[1]*pdfs[:,1]))\n",
        "  LL_list.append(log_likelihood)\n",
        "  count += 1"
      ],
      "execution_count": 0,
      "outputs": []
    },
    {
      "cell_type": "code",
      "metadata": {
        "id": "t5G0sjYOidRp",
        "colab_type": "code",
        "colab": {}
      },
      "source": [
        "#plot of mean vectors\n",
        "plt.plot(emean0_traj, label = 'Class_0')\n",
        "plt.plot(emean1_traj, label = 'Class_1')\n",
        "plt.title('Trajectories of eruption mean vectors')\n",
        "plt.xlabel('Iteration')\n",
        "plt.ylabel('Coordinate')\n",
        "plt.legend()\n",
        "plt.show()\n"
      ],
      "execution_count": 0,
      "outputs": []
    },
    {
      "cell_type": "code",
      "metadata": {
        "id": "Nk94z5mhnTbF",
        "colab_type": "code",
        "colab": {}
      },
      "source": [
        "#plot of mean vectors\n",
        "plt.plot(wmean0_traj, label = 'Class_0')\n",
        "plt.plot(wmean1_traj, label = 'Class_1')\n",
        "plt.title('Trajectories of the waiting mean vectors')\n",
        "plt.xlabel('Iteration')\n",
        "plt.ylabel('Coordinate')\n",
        "plt.legend()\n",
        "plt.show()"
      ],
      "execution_count": 0,
      "outputs": []
    },
    {
      "cell_type": "code",
      "metadata": {
        "id": "EqnSUJTsdMaA",
        "colab_type": "code",
        "colab": {}
      },
      "source": [
        "#plot of log-likelihood\n",
        "plt.plot(LL_list)\n",
        "plt.title('Log-likelihood convergence')\n",
        "plt.xlabel('iteration')\n",
        "plt.ylabel('Log-likelihood')"
      ],
      "execution_count": 0,
      "outputs": []
    },
    {
      "cell_type": "code",
      "metadata": {
        "id": "N31cekMl-ndQ",
        "colab_type": "code",
        "colab": {}
      },
      "source": [
        "#plot of final clustering\n",
        "yhat = np.argmax(gamma, axis = 1)\n",
        "plt.scatter(np.array(OF)[:,0],np.array(OF)[:,1], c = yhat)\n",
        "plt.title('Final clustering')"
      ],
      "execution_count": 0,
      "outputs": []
    },
    {
      "cell_type": "markdown",
      "metadata": {
        "id": "lphaBbr-jUs6",
        "colab_type": "text"
      },
      "source": [
        "###Running it 50 times with different initial parameters"
      ]
    },
    {
      "cell_type": "code",
      "metadata": {
        "id": "vdmcyZfOjTax",
        "colab_type": "code",
        "colab": {}
      },
      "source": [
        "convergence = []\n",
        "\n",
        "for i in range(50):\n",
        "  \n",
        "  print(i)\n",
        "\n",
        "  #random initialization of means & variances\n",
        "  emean = [float(OF['eruptions'].sample()),float(OF['eruptions'].sample())]\n",
        "  evar = [np.sum((np.array(OF['eruptions']-np.array(emean[0])))**2)/OF.shape[0], np.sum((np.array(OF['eruptions']-np.array(emean[1])))**2)/OF.shape[0]]\n",
        "  wmean = [float(OF['waiting'].sample()),float(OF['waiting'].sample())]\n",
        "  wvar = [np.sum((np.array(OF['waiting']-np.array(emean[0])))**2)/OF.shape[0], np.sum((np.array(OF['waiting']-np.array(emean[1])))**2)/OF.shape[0]]\n",
        "  p0 = np.random.rand()\n",
        "  pi_ = [p0,1-p0]\n",
        "\n",
        "  emean0_traj, emean1_traj, wmean0_traj, wmean1_traj = ([] for i in range(4))\n",
        "  LL_list = []\n",
        "  previous_log = 100\n",
        "  log_likelihood = 200\n",
        "  count = 0\n",
        "\n",
        "  while abs(log_likelihood-previous_log) > 0.001:  \n",
        "\n",
        "    emean0_traj.append(emean[0])\n",
        "    emean1_traj.append(emean[1])\n",
        "    wmean0_traj.append(wmean[0])\n",
        "    wmean1_traj.append(wmean[1])\n",
        "\n",
        "    pdfs = np.zeros([gamma.shape[0], grp])\n",
        "    for i in range(gamma.shape[0]):\n",
        "      for j in range(grp):\n",
        "        pdfs[i,j] = scipy.stats.multivariate_normal.pdf(np.array(OF.iloc[i,:]), mean = [emean[j], wmean[j]], cov = [[evar[j],0],[0, wvar[j]]])\n",
        "\n",
        "\n",
        "    for i in range(gamma.shape[0]):\n",
        "      denom = sum(pi_*pdfs[i,:])\n",
        "      t = np.zeros(grp)\n",
        "      for j in range(grp):\n",
        "          gamma[i,j] = pi_[j]*pdfs[i,j]/denom\n",
        "\n",
        "\n",
        "    emean = []\n",
        "    evar = []\n",
        "    wmean = []\n",
        "    wvar = []\n",
        "    pi_ = []\n",
        "\n",
        "    for j in range(grp):\n",
        "        emean.append(sum(gamma[:,j]*np.array(OF['eruptions']))/sum(gamma[:,j]))\n",
        "        wmean.append(sum(gamma[:,j]*np.array(OF['waiting']))/sum(gamma[:,j]))\n",
        "        evar.append(sum(gamma[:,j]*(np.array(OF['eruptions']-emean[j])**2))/sum(gamma[:,j]))\n",
        "        wvar.append(sum(gamma[:,j]*(np.array(OF['waiting']-emean[j])**2))/sum(gamma[:,j]))\n",
        "\n",
        "        pi_.append(sum(gamma[:,j])/sum(sum(gamma)))\n",
        "\n",
        "\n",
        "    previous_log = log_likelihood\n",
        "    log_likelihood = np.sum(np.log(pi_[0]*pdfs[:,0])+np.log(pi_[1]*pdfs[:,1]))\n",
        "    LL_list.append(log_likelihood)\n",
        "    count += 1\n",
        "  convergence.append(count)"
      ],
      "execution_count": 0,
      "outputs": []
    },
    {
      "cell_type": "code",
      "metadata": {
        "id": "AtXWdia3mgf1",
        "colab_type": "code",
        "colab": {}
      },
      "source": [
        "#convergence distibution\n",
        "plt.hist(convergence)\n",
        "plt.title('Distribution of the total number of iterations needed for algorithm to converge')"
      ],
      "execution_count": 0,
      "outputs": []
    },
    {
      "cell_type": "markdown",
      "metadata": {
        "id": "txg_34eRnbQu",
        "colab_type": "text"
      },
      "source": [
        "###Initialization with k-means"
      ]
    },
    {
      "cell_type": "code",
      "metadata": {
        "id": "gJqYiSgZndXb",
        "colab_type": "code",
        "colab": {}
      },
      "source": [
        "kmeans = KMeans(n_clusters = 2, random_state=0).fit(OF)\n",
        "OF['Label_kmeans'] = kmeans.labels_\n",
        "p0 = (OF.loc[OF['Label_kmeans'] == 0].shape[0])/OF.shape[0]\n",
        "pi_ = [p0,1-p0]\n",
        "\n",
        "emean = [np.sum(OF.loc[OF['Label_kmeans'] == 0, 'eruptions'])/OF.loc[OF['Label_kmeans'] == 0].shape[0],\n",
        "         np.sum(OF.loc[OF['Label_kmeans'] == 1, 'eruptions'])/OF.loc[OF['Label_kmeans'] == 1].shape[0]]\n",
        "\n",
        "wmean = [np.sum(OF.loc[OF['Label_kmeans'] == 0, 'waiting'])/OF.loc[OF['Label_kmeans'] == 0].shape[0],\n",
        "         np.sum(OF.loc[OF['Label_kmeans'] == 1, 'waiting'])/OF.loc[OF['Label_kmeans'] == 1].shape[0]]\n",
        "\n",
        "\n",
        "evar = [np.sum((OF.loc[OF['Label_kmeans'] == 0, 'eruptions']-emean[0])**2)/OF.loc[OF['Label_kmeans'] == 0].shape[0],\n",
        "         np.sum((OF.loc[OF['Label_kmeans'] == 1, 'eruptions']-emean[1])**2)/OF.loc[OF['Label_kmeans'] == 1].shape[0]]\n",
        "\n",
        "wvar = [np.sum((OF.loc[OF['Label_kmeans'] == 0, 'waiting']-wmean[0])**2)/OF.loc[OF['Label_kmeans'] == 0].shape[0],\n",
        "         np.sum((OF.loc[OF['Label_kmeans'] == 1, 'waiting']-wmean[1])**2)/OF.loc[OF['Label_kmeans'] == 1].shape[0]]\n",
        "\n",
        "\n",
        "grp = 2\n",
        "gamma = np.zeros([OF.shape[0], grp])\n",
        "\n",
        "emean0_traj, emean1_traj, wmean0_traj, wmean1_traj = ([] for i in range(4))\n",
        "LL_list = []\n",
        "previous_log = 100\n",
        "log_likelihood = 200\n",
        "count = 0\n",
        "\n",
        "while abs(log_likelihood-previous_log) > 0.005:  \n",
        "  \n",
        "  emean0_traj.append(emean[0])\n",
        "  emean1_traj.append(emean[1])\n",
        "  wmean0_traj.append(wmean[0])\n",
        "  wmean1_traj.append(wmean[1])\n",
        "  \n",
        "  pdfs = np.zeros([gamma.shape[0], grp])\n",
        "  for i in range(gamma.shape[0]):\n",
        "    for j in range(grp):\n",
        "      pdfs[i,j] = scipy.stats.multivariate_normal.pdf(np.array(OF.iloc[i,0:2]), mean = [emean[j], wmean[j]], cov = [[evar[j],0],[0, wvar[j]]])\n",
        "      \n",
        "      \n",
        "  for i in range(gamma.shape[0]):\n",
        "    denom = sum(pi_*pdfs[i,:])\n",
        "    t = np.zeros(grp)\n",
        "    for j in range(grp):\n",
        "        gamma[i,j] = pi_[j]*pdfs[i,j]/denom\n",
        "      \n",
        "      \n",
        "  emean = []\n",
        "  evar = []\n",
        "  wmean = []\n",
        "  wvar = []\n",
        "  pi_ = []\n",
        "\n",
        "  for j in range(grp):\n",
        "      emean.append(sum(gamma[:,j]*np.array(OF['eruptions']))/sum(gamma[:,j]))\n",
        "      wmean.append(sum(gamma[:,j]*np.array(OF['waiting']))/sum(gamma[:,j]))\n",
        "      evar.append(sum(gamma[:,j]*(np.array(OF['eruptions']-emean[j])**2))/sum(gamma[:,j]))\n",
        "      wvar.append(sum(gamma[:,j]*(np.array(OF['waiting']-emean[j])**2))/sum(gamma[:,j]))\n",
        "\n",
        "      pi_.append(sum(gamma[:,j])/sum(sum(gamma)))\n",
        "  \n",
        "  \n",
        "  previous_log = log_likelihood\n",
        "  log_likelihood = np.sum(np.log(pi_[0]*pdfs[:,0])+np.log(pi_[1]*pdfs[:,1]))\n",
        "  LL_list.append(log_likelihood)\n",
        "  count += 1"
      ],
      "execution_count": 0,
      "outputs": []
    },
    {
      "cell_type": "code",
      "metadata": {
        "id": "aoIvvg1RtKAY",
        "colab_type": "code",
        "colab": {}
      },
      "source": [
        "#plot of mean vectors\n",
        "plt.plot(emean0_traj, label = 'Class_0')\n",
        "plt.plot(emean1_traj, label = 'Class_1')\n",
        "plt.title('Trajectories of eruption mean vectors')\n",
        "plt.xlabel('Iteration')\n",
        "plt.ylabel('Coordinate')\n",
        "plt.legend()\n",
        "plt.show()"
      ],
      "execution_count": 0,
      "outputs": []
    },
    {
      "cell_type": "code",
      "metadata": {
        "id": "wb60mio0tV25",
        "colab_type": "code",
        "colab": {}
      },
      "source": [
        "#plot of mean vectors\n",
        "plt.plot(wmean0_traj, label = 'Class_0')\n",
        "plt.plot(wmean1_traj, label = 'Class_1')\n",
        "plt.title('Trajectories of the waiting mean vectors')\n",
        "plt.xlabel('Iteration')\n",
        "plt.ylabel('Coordinate')\n",
        "plt.legend()\n",
        "plt.show()"
      ],
      "execution_count": 0,
      "outputs": []
    },
    {
      "cell_type": "code",
      "metadata": {
        "id": "ZXI-0vx9tbN8",
        "colab_type": "code",
        "colab": {}
      },
      "source": [
        "#plot of log-likelihood\n",
        "plt.plot(LL_list)\n",
        "plt.title('Log-likelihood convergence')\n",
        "plt.xlabel('iteration')\n",
        "plt.ylabel('Log-likelihood')"
      ],
      "execution_count": 0,
      "outputs": []
    },
    {
      "cell_type": "code",
      "metadata": {
        "id": "5jr2MdEotiCM",
        "colab_type": "code",
        "colab": {}
      },
      "source": [
        "#final clustering\n",
        "yhat = np.argmax(gamma, axis = 1)\n",
        "plt.scatter(np.array(OF)[:,0],np.array(OF)[:,1], c = yhat)\n",
        "plt.title('Final clustering')"
      ],
      "execution_count": 0,
      "outputs": []
    },
    {
      "cell_type": "markdown",
      "metadata": {
        "id": "XFuMnl_CzuXQ",
        "colab_type": "text"
      },
      "source": [
        "###K-means convergence"
      ]
    },
    {
      "cell_type": "code",
      "metadata": {
        "id": "5CvdHK1g5PST",
        "colab_type": "code",
        "colab": {}
      },
      "source": [
        "convergence = []\n",
        "\n",
        "for i in range(50):\n",
        "  \n",
        "  print(i)\n",
        "\n",
        "  #Initialization\n",
        "  kmeans = KMeans(n_clusters = 2).fit(OF)\n",
        "  OF['Label_kmeans'] = kmeans.labels_\n",
        "  p0 = (OF.loc[OF['Label_kmeans'] == 0].shape[0])/OF.shape[0]\n",
        "  pi_ = [p0,1-p0]\n",
        "\n",
        "  emean = [np.sum(OF.loc[OF['Label_kmeans'] == 0, 'eruptions'])/OF.loc[OF['Label_kmeans'] == 0].shape[0],\n",
        "           np.sum(OF.loc[OF['Label_kmeans'] == 1, 'eruptions'])/OF.loc[OF['Label_kmeans'] == 1].shape[0]]\n",
        "\n",
        "  wmean = [np.sum(OF.loc[OF['Label_kmeans'] == 0, 'waiting'])/OF.loc[OF['Label_kmeans'] == 0].shape[0],\n",
        "           np.sum(OF.loc[OF['Label_kmeans'] == 1, 'waiting'])/OF.loc[OF['Label_kmeans'] == 1].shape[0]]\n",
        "\n",
        "\n",
        "  evar = [np.sum((OF.loc[OF['Label_kmeans'] == 0, 'eruptions']-emean[0])**2)/OF.loc[OF['Label_kmeans'] == 0].shape[0],\n",
        "           np.sum((OF.loc[OF['Label_kmeans'] == 1, 'eruptions']-emean[1])**2)/OF.loc[OF['Label_kmeans'] == 1].shape[0]]\n",
        "\n",
        "  wvar = [np.sum((OF.loc[OF['Label_kmeans'] == 0, 'waiting']-wmean[0])**2)/OF.loc[OF['Label_kmeans'] == 0].shape[0],\n",
        "           np.sum((OF.loc[OF['Label_kmeans'] == 1, 'waiting']-wmean[1])**2)/OF.loc[OF['Label_kmeans'] == 1].shape[0]]\n",
        "\n",
        "\n",
        "  emean0_traj, emean1_traj, wmean0_traj, wmean1_traj = ([] for i in range(4))\n",
        "  LL_list = []\n",
        "  previous_log = 100\n",
        "  log_likelihood = 200\n",
        "  count = 0\n",
        "\n",
        "  while abs(log_likelihood-previous_log) > 0.005:  \n",
        "\n",
        "    emean0_traj.append(emean[0])\n",
        "    emean1_traj.append(emean[1])\n",
        "    wmean0_traj.append(wmean[0])\n",
        "    wmean1_traj.append(wmean[1])\n",
        "\n",
        "    pdfs = np.zeros([gamma.shape[0], grp])\n",
        "    for i in range(gamma.shape[0]):\n",
        "      for j in range(grp):\n",
        "        pdfs[i,j] = scipy.stats.multivariate_normal.pdf(np.array(OF.iloc[i,0:2]), mean = [emean[j], wmean[j]], cov = [[evar[j],0],[0, wvar[j]]])\n",
        "\n",
        "\n",
        "    for i in range(gamma.shape[0]):\n",
        "      denom = sum(pi_*pdfs[i,:])\n",
        "      t = np.zeros(grp)\n",
        "      for j in range(grp):\n",
        "          gamma[i,j] = pi_[j]*pdfs[i,j]/denom\n",
        "\n",
        "\n",
        "    emean = []\n",
        "    evar = []\n",
        "    wmean = []\n",
        "    wvar = []\n",
        "    pi_ = []\n",
        "\n",
        "    for j in range(grp):\n",
        "        emean.append(sum(gamma[:,j]*np.array(OF['eruptions']))/sum(gamma[:,j]))\n",
        "        wmean.append(sum(gamma[:,j]*np.array(OF['waiting']))/sum(gamma[:,j]))\n",
        "        evar.append(sum(gamma[:,j]*(np.array(OF['eruptions']-emean[j])**2))/sum(gamma[:,j]))\n",
        "        wvar.append(sum(gamma[:,j]*(np.array(OF['waiting']-emean[j])**2))/sum(gamma[:,j]))\n",
        "\n",
        "        pi_.append(sum(gamma[:,j])/sum(sum(gamma)))\n",
        "\n",
        "\n",
        "    previous_log = log_likelihood\n",
        "    log_likelihood = np.sum(np.log(pi_[0]*pdfs[:,0])+np.log(pi_[1]*pdfs[:,1]))\n",
        "    LL_list.append(log_likelihood)\n",
        "    count += 1\n",
        "  convergence.append(count)"
      ],
      "execution_count": 0,
      "outputs": []
    },
    {
      "cell_type": "markdown",
      "metadata": {
        "id": "C6BpKdN4GvZL",
        "colab_type": "text"
      },
      "source": [
        "###Written exercises - Python computations for problem 1"
      ]
    },
    {
      "cell_type": "markdown",
      "metadata": {
        "id": "EnLeCaEyibrp",
        "colab_type": "text"
      },
      "source": [
        "###c)"
      ]
    },
    {
      "cell_type": "code",
      "metadata": {
        "id": "kGGB9HUeGxzp",
        "colab_type": "code",
        "colab": {}
      },
      "source": [
        "from numpy import linalg as LA\n",
        "\n",
        "M = np.array([[1,0,3],[3,7,2],[2,-2,8],[0,-1,1],[5,8,7]])\n",
        "A = np.array([[10,9,26,3,26],[9,62,8,-5,85],[26,8,72,10,50],[3,-5,10,2,-1],[26,85,50,-1,138]])\n",
        "B = np.array([[39,57,60],[57,118,53],[60,53,127]])\n",
        "\n",
        "\n",
        "lu, u = LA.eig(A)\n",
        "lv, v = LA.eig(B)"
      ],
      "execution_count": 0,
      "outputs": []
    },
    {
      "cell_type": "markdown",
      "metadata": {
        "id": "ycJqhaqYidoH",
        "colab_type": "text"
      },
      "source": [
        "###d)"
      ]
    },
    {
      "cell_type": "code",
      "metadata": {
        "id": "TG06hkO9LKTx",
        "colab_type": "code",
        "colab": {}
      },
      "source": [
        "non_zero_eval = np.sqrt(np.array([lu[0],lu[2]]))\n",
        "u = np.array([u[:,0],u[:,2]]).reshape(2,5).transpose()\n",
        "vt = np.linalg.inv(np.diag(non_zero_eval)).dot(u.transpose()).dot(M)"
      ],
      "execution_count": 0,
      "outputs": []
    },
    {
      "cell_type": "code",
      "metadata": {
        "id": "NJYO5XjDj7e9",
        "colab_type": "code",
        "colab": {}
      },
      "source": [
        "M_svd = u.dot(np.diag(non_zero_eval)).dot(vt)"
      ],
      "execution_count": 0,
      "outputs": []
    },
    {
      "cell_type": "markdown",
      "metadata": {
        "id": "EaksezCgigCN",
        "colab_type": "text"
      },
      "source": [
        "###e)"
      ]
    },
    {
      "cell_type": "code",
      "metadata": {
        "id": "DhxranSEigwi",
        "colab_type": "code",
        "colab": {}
      },
      "source": [
        "non_zero_eval = np.sqrt(np.array([lu[0]]))\n",
        "u = np.array([u[:,0]]).reshape(1,5).transpose()\n",
        "vt = (1/non_zero_eval[0])*(u.transpose().dot(M))"
      ],
      "execution_count": 0,
      "outputs": []
    },
    {
      "cell_type": "code",
      "metadata": {
        "id": "fEjfkz2lj1N_",
        "colab_type": "code",
        "colab": {}
      },
      "source": [
        "M_svd_1d = non_zero_eval[0]*u.dot(vt)"
      ],
      "execution_count": 0,
      "outputs": []
    }
  ]
}