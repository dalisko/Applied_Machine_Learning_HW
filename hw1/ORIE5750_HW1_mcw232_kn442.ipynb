{
  "nbformat": 4,
  "nbformat_minor": 0,
  "metadata": {
    "colab": {
      "name": "ORIE5750_HW1_mcw232_kn442.ipynb",
      "provenance": [],
      "collapsed_sections": []
    },
    "kernelspec": {
      "name": "python3",
      "display_name": "Python 3"
    },
    "accelerator": "GPU"
  },
  "cells": [
    {
      "cell_type": "code",
      "metadata": {
        "id": "xOapz7rILGIm",
        "colab_type": "code",
        "colab": {}
      },
      "source": [
        "from google.colab import files\n",
        "import pandas as pd\n",
        "import numpy as np\n",
        "import matplotlib.pyplot as plt\n",
        "from scipy import stats\n",
        "import sklearn.metrics\n",
        "%matplotlib inline"
      ],
      "execution_count": 0,
      "outputs": []
    },
    {
      "cell_type": "code",
      "metadata": {
        "id": "lxO4K2-CZ8zH",
        "colab_type": "code",
        "outputId": "e94537f8-62d8-4eba-9083-cde4f9448f3c",
        "colab": {
          "base_uri": "https://localhost:8080/",
          "height": 122
        }
      },
      "source": [
        "from google.colab import drive\n",
        "drive.mount('/content/drive')"
      ],
      "execution_count": 2,
      "outputs": [
        {
          "output_type": "stream",
          "text": [
            "Go to this URL in a browser: https://accounts.google.com/o/oauth2/auth?client_id=947318989803-6bn6qk8qdgf4n4g3pfee6491hc0brc4i.apps.googleusercontent.com&redirect_uri=urn%3Aietf%3Awg%3Aoauth%3A2.0%3Aoob&scope=email%20https%3A%2F%2Fwww.googleapis.com%2Fauth%2Fdocs.test%20https%3A%2F%2Fwww.googleapis.com%2Fauth%2Fdrive%20https%3A%2F%2Fwww.googleapis.com%2Fauth%2Fdrive.photos.readonly%20https%3A%2F%2Fwww.googleapis.com%2Fauth%2Fpeopleapi.readonly&response_type=code\n",
            "\n",
            "Enter your authorization code:\n",
            "··········\n",
            "Mounted at /content/drive\n"
          ],
          "name": "stdout"
        }
      ]
    },
    {
      "cell_type": "markdown",
      "metadata": {
        "id": "_8jm_zqiN3Um",
        "colab_type": "text"
      },
      "source": [
        "##ORIE 5750 - Homework 1\n",
        "\n",
        "###Maxwell Wulff mcw232 , Konstantinos Ntalis kn442 \n"
      ]
    },
    {
      "cell_type": "markdown",
      "metadata": {
        "id": "r6PTj4brOsA-",
        "colab_type": "text"
      },
      "source": [
        "###Problem 1: Digit Recognizer"
      ]
    },
    {
      "cell_type": "markdown",
      "metadata": {
        "id": "dB41F3CVOjZu",
        "colab_type": "text"
      },
      "source": [
        "###a)"
      ]
    },
    {
      "cell_type": "code",
      "metadata": {
        "id": "Ca95WIbs8QYs",
        "colab_type": "code",
        "colab": {}
      },
      "source": [
        "train = pd.read_csv(\"/content/drive/My Drive/AML - Fall 2019/train (1).csv\")\n",
        "test = pd.read_csv(\"/content/drive/My Drive/AML - Fall 2019/test (1).csv\")\n"
      ],
      "execution_count": 0,
      "outputs": []
    },
    {
      "cell_type": "markdown",
      "metadata": {
        "id": "M3QGRMViWrx9",
        "colab_type": "text"
      },
      "source": [
        "###b) We create a function to display a digit  "
      ]
    },
    {
      "cell_type": "code",
      "metadata": {
        "id": "dyyLV9iUTCbB",
        "colab_type": "code",
        "colab": {}
      },
      "source": [
        "def MNISTdigit(rowindex):\n",
        "  img = np.array(train.iloc[rowindex,1:]).reshape(-1,28)\n",
        "  plt.imshow(img, cmap = 'Greys')\n",
        "  plt.show()"
      ],
      "execution_count": 0,
      "outputs": []
    },
    {
      "cell_type": "code",
      "metadata": {
        "id": "sVhCFKqn3S26",
        "colab_type": "code",
        "colab": {}
      },
      "source": [
        ""
      ],
      "execution_count": 0,
      "outputs": []
    },
    {
      "cell_type": "markdown",
      "metadata": {
        "id": "5isug3aX7RX0",
        "colab_type": "text"
      },
      "source": [
        "###and we print the first instance of every digit in the training set"
      ]
    },
    {
      "cell_type": "code",
      "metadata": {
        "id": "kIeiYYXmVSur",
        "colab_type": "code",
        "colab": {}
      },
      "source": [
        "for i in range(0,10):\n",
        "  row = 0\n",
        "  while train.iloc[row,0] != i:\n",
        "    row += 1\n",
        "  MNISTdigit(row)  \n",
        "  "
      ],
      "execution_count": 0,
      "outputs": []
    },
    {
      "cell_type": "code",
      "metadata": {
        "id": "qDU5I8eC3TaA",
        "colab_type": "code",
        "colab": {}
      },
      "source": [
        ""
      ],
      "execution_count": 0,
      "outputs": []
    },
    {
      "cell_type": "markdown",
      "metadata": {
        "id": "Ahl5XKcLWwNN",
        "colab_type": "text"
      },
      "source": [
        "###c) We use the value_counts function to get the normalized count of each digit and plot the corresponding histogram"
      ]
    },
    {
      "cell_type": "code",
      "metadata": {
        "id": "nEKlM0_rWytm",
        "colab_type": "code",
        "outputId": "e1275460-68bf-4583-c434-9cc98f78ea99",
        "colab": {
          "base_uri": "https://localhost:8080/",
          "height": 295
        }
      },
      "source": [
        "train['label'].value_counts(sort = False , normalize = True).plot('bar', )\n",
        "plt.title('Normalized histogram of digit counts')"
      ],
      "execution_count": 6,
      "outputs": [
        {
          "output_type": "execute_result",
          "data": {
            "text/plain": [
              "Text(0.5, 1.0, 'Normalized histogram of digit counts')"
            ]
          },
          "metadata": {
            "tags": []
          },
          "execution_count": 6
        },
        {
          "output_type": "display_data",
          "data": {
            "image/png": "[encoded data removed]",
            "text/plain": [
              "<Figure size 432x288 with 1 Axes>"
            ]
          },
          "metadata": {
            "tags": []
          }
        }
      ]
    },
    {
      "cell_type": "markdown",
      "metadata": {
        "id": "uPW9zNoCcF_c",
        "colab_type": "text"
      },
      "source": [
        "### It is relatively even, with the digit 5 being the most infrequent and 1 the most frequent."
      ]
    },
    {
      "cell_type": "markdown",
      "metadata": {
        "id": "BYTrBZByddIh",
        "colab_type": "text"
      },
      "source": [
        "###d) We start by getting the index of the first instance of each digit"
      ]
    },
    {
      "cell_type": "code",
      "metadata": {
        "id": "dKHERArcYK4a",
        "colab_type": "code",
        "colab": {}
      },
      "source": [
        " index = []\n",
        "for i in range(0,10):\n",
        "  row = 0\n",
        "  while train.iloc[row,0] != i:\n",
        "    row += 1\n",
        "  index.append(row)\n"
      ],
      "execution_count": 0,
      "outputs": []
    },
    {
      "cell_type": "markdown",
      "metadata": {
        "id": "hGo5CwMV8xr4",
        "colab_type": "text"
      },
      "source": [
        "###Then, for each digit calculate the euclidean distance between itself and the rest of the training data. Choose the second value to exclude itself"
      ]
    },
    {
      "cell_type": "code",
      "metadata": {
        "id": "O57EsaEIfx8H",
        "colab_type": "code",
        "colab": {}
      },
      "source": [
        "train_array = train.to_numpy()\n",
        "nearest = []\n",
        "\n",
        "for i in index:\n",
        "  l2_dist = np.argsort(((train_array[i,1:] - train_array[:,1:])**2).sum(-1))\n",
        "  nearest.append(l2_dist[1]) "
      ],
      "execution_count": 0,
      "outputs": []
    },
    {
      "cell_type": "code",
      "metadata": {
        "id": "EEPIts42lcxM",
        "colab_type": "code",
        "outputId": "3763a248-f873-4df1-dfdf-2f5e3ddf4cc2",
        "colab": {
          "base_uri": "https://localhost:8080/",
          "height": 204
        }
      },
      "source": [
        "nearestlabel = []\n",
        "#for each digit, get the label of its nearest neighbor\n",
        "for i in nearest:\n",
        "  nearestlabel.append(train.iloc[i,0])\n",
        "\n",
        "indexdf = pd.DataFrame(index)\n",
        "nearestdf = pd.DataFrame(nearest)\n",
        "nearestlabeldf = pd.DataFrame(nearestlabel)\n",
        "\n",
        "#create table to compare original digits to nearest neighbor\n",
        "out = np.transpose(pd.concat([np.transpose(indexdf), np.transpose(nearestdf), np.transpose(nearestlabeldf)]))  \n",
        "out.columns = [\"original index\" , \"nearest index\", \"nearest label\"]\n",
        "\n",
        "print(out)"
      ],
      "execution_count": 9,
      "outputs": [
        {
          "output_type": "stream",
          "text": [
            "   original index  nearest index  nearest label\n",
            "0               1          12950              0\n",
            "1               0          29704              1\n",
            "2              16           9536              2\n",
            "3               7           8981              5\n",
            "4               3          14787              4\n",
            "5               8          30073              5\n",
            "6              21          16240              6\n",
            "7               6          15275              7\n",
            "8              10          32586              8\n",
            "9              11          35742              9\n"
          ],
          "name": "stdout"
        }
      ]
    },
    {
      "cell_type": "markdown",
      "metadata": {
        "id": "951UBVFRwWOR",
        "colab_type": "text"
      },
      "source": [
        "###Our Number 3's closest neighbor is a Number 5. Other than that every other's nearest neighbor was itself."
      ]
    },
    {
      "cell_type": "markdown",
      "metadata": {
        "id": "cQyn9sORxNlF",
        "colab_type": "text"
      },
      "source": [
        "###e)"
      ]
    },
    {
      "cell_type": "code",
      "metadata": {
        "id": "0SeXqm9SxQAk",
        "colab_type": "code",
        "colab": {}
      },
      "source": [
        "#get and store just the zeros and ones from the training data\n",
        "zeros = train[train.iloc[:,0] == 0]\n",
        "ones = train[train.iloc[:,0] == 1]\n",
        "\n",
        "#row bind these two to create one large dataframe\n",
        "zo = pd.concat([zeros, ones])\n",
        "zo = zo.to_numpy()\n",
        "zo = zo[:,1:]"
      ],
      "execution_count": 0,
      "outputs": []
    },
    {
      "cell_type": "code",
      "metadata": {
        "id": "V72LPbIz0QXB",
        "colab_type": "code",
        "colab": {}
      },
      "source": [
        "#calculate the pairwise distances for the above\n",
        "dis = sklearn.metrics.pairwise.euclidean_distances(zo)"
      ],
      "execution_count": 0,
      "outputs": []
    },
    {
      "cell_type": "code",
      "metadata": {
        "id": "II63R56z2ypl",
        "colab_type": "code",
        "colab": {}
      },
      "source": [
        "#use the size of each of the ones and zeros to pull the upper left\n",
        "#and bottom right of the matrix (genuine 0 and genuine 1 respectively).\n",
        "#flatten.\n",
        "genzero = np.ndarray.flatten(dis[:zeros.shape[0],:zeros.shape[0]])\n",
        "genone = np.ndarray.flatten(dis[zeros.shape[0]:,zeros.shape[0]:])\n",
        "\n",
        "#use the size of each of the ones and zeros to pull the upper right\n",
        "#and bottom left of the matrix (imposter matches).\n",
        "#flatten.\n",
        "imposterbl = np.ndarray.flatten(dis[zeros.shape[0]:,:zeros.shape[0]])\n",
        "imposterur = np.ndarray.flatten(dis[:zeros.shape[0],zeros.shape[0]:])\n",
        "\n",
        "#bind all of the genuine and imposter distances together\n",
        "gen = np.hstack([genzero,genone])\n",
        "imp = np.hstack([imposterbl, imposterur])\n"
      ],
      "execution_count": 0,
      "outputs": []
    },
    {
      "cell_type": "code",
      "metadata": {
        "id": "L8chXm0_6Urc",
        "colab_type": "code",
        "outputId": "16710478-9d61-4861-c168-8d8290d1e737",
        "colab": {
          "base_uri": "https://localhost:8080/",
          "height": 295
        }
      },
      "source": [
        "#plot the genuine and imposter distances on the same plot\n",
        "bins = np.linspace(0, 4000, 80)\n",
        "\n",
        "plt.hist(gen, bins, alpha = 0.5, label = 'Genuine')\n",
        "plt.hist(imp, bins, alpha = 0.5, label = 'Imposter')\n",
        "plt.legend(loc = 'upper left')\n",
        "plt.title('Histogram of Genuine and Imposter Distances')\n",
        "plt.xlabel('Distance')\n",
        "plt.ylabel('Frequency')\n",
        "plt.show()"
      ],
      "execution_count": 13,
      "outputs": [
        {
          "output_type": "display_data",
          "data": {
            "image/png": "[encoded data removed]",
            "text/plain": [
              "<Figure size 432x288 with 1 Axes>"
            ]
          },
          "metadata": {
            "tags": []
          }
        }
      ]
    },
    {
      "cell_type": "markdown",
      "metadata": {
        "id": "rIyVJ7gvGosS",
        "colab_type": "text"
      },
      "source": [
        "###f)"
      ]
    },
    {
      "cell_type": "code",
      "metadata": {
        "id": "NSZlXy5pGq7H",
        "colab_type": "code",
        "colab": {}
      },
      "source": [
        "#use zero to mark genuine matches\n",
        "markg = np.zeros(gen.shape)\n",
        "\n",
        "#use one to mark imposter matches\n",
        "marki = np.ones(imp.shape)"
      ],
      "execution_count": 0,
      "outputs": []
    },
    {
      "cell_type": "code",
      "metadata": {
        "id": "o25T6vLJHRuA",
        "colab_type": "code",
        "colab": {}
      },
      "source": [
        "#create two master vectors of distances and corresponding labels\n",
        "dist = np.hstack([gen, imp])\n",
        "mark = np.hstack([markg, marki])"
      ],
      "execution_count": 0,
      "outputs": []
    },
    {
      "cell_type": "code",
      "metadata": {
        "id": "jU6ZkgR7Hh64",
        "colab_type": "code",
        "colab": {}
      },
      "source": [
        "#use sklearn's roc_curve() to calculate the roc curve\n",
        "fpr, tpr, threshold = sklearn.metrics.roc_curve(mark, dist)"
      ],
      "execution_count": 0,
      "outputs": []
    },
    {
      "cell_type": "code",
      "metadata": {
        "id": "K68yyG7hIdXt",
        "colab_type": "code",
        "outputId": "b9fdcbf0-5688-42ee-f79c-fda434496c16",
        "colab": {
          "base_uri": "https://localhost:8080/",
          "height": 295
        }
      },
      "source": [
        "#plot ROC curve with AUC\n",
        "roc_auc = sklearn.metrics.auc(fpr, tpr)\n",
        "\n",
        "\n",
        "plt.title('ROC Predicting Imposter')\n",
        "plt.plot(fpr, tpr, 'b', label = 'AUC = %0.2f' % roc_auc)\n",
        "plt.legend(loc = 'lower right')\n",
        "plt.plot([0, 1], [0, 1],'r--')\n",
        "plt.xlim([0, 1])\n",
        "plt.ylim([0, 1])\n",
        "plt.ylabel('TPR')\n",
        "plt.xlabel('FPR')\n",
        "plt.show()"
      ],
      "execution_count": 19,
      "outputs": [
        {
          "output_type": "display_data",
          "data": {
            "image/png": "[encoded data removed]",
            "text/plain": [
              "<Figure size 432x288 with 1 Axes>"
            ]
          },
          "metadata": {
            "tags": []
          }
        }
      ]
    },
    {
      "cell_type": "code",
      "metadata": {
        "id": "kmdA8PjL3hIH",
        "colab_type": "code",
        "colab": {
          "base_uri": "https://localhost:8080/",
          "height": 34
        },
        "outputId": "dc56aec9-3bba-4a10-db7d-e6a3e218a4fe"
      },
      "source": [
        "EER_fpr = fpr[np.nanargmin(np.absolute(((1-tpr) - fpr)))]\n",
        "EER_tpr = tpr[np.nanargmin(np.absolute(((1-tpr) - fpr)))]\n",
        "print(EER_fpr, EER_tpr)\n"
      ],
      "execution_count": 23,
      "outputs": [
        {
          "output_type": "stream",
          "text": [
            "0.18554784422124979 0.814452073876342\n"
          ],
          "name": "stdout"
        }
      ]
    },
    {
      "cell_type": "code",
      "metadata": {
        "id": "DhSKss1anpAp",
        "colab_type": "code",
        "colab": {
          "base_uri": "https://localhost:8080/",
          "height": 34
        },
        "outputId": "bbc72573-5799-47d3-dc82-614c2e306844"
      },
      "source": [
        "print('The error of a classifier that simply guesses randomly is 50%')"
      ],
      "execution_count": 68,
      "outputs": [
        {
          "output_type": "stream",
          "text": [
            "The error of a classifier that simply guesses randomly is 50%\n"
          ],
          "name": "stdout"
        }
      ]
    },
    {
      "cell_type": "markdown",
      "metadata": {
        "id": "zcFTT1Vgp7Vr",
        "colab_type": "text"
      },
      "source": [
        "###g)"
      ]
    },
    {
      "cell_type": "code",
      "metadata": {
        "id": "xv26Quvqp_2i",
        "colab_type": "code",
        "colab": {}
      },
      "source": [
        "#create function to run KNN. take in a training set, test set, and k.\n",
        "#output 3 arrays: (1) the actual labels (2) the nearest distances\n",
        "#(3) the labels of the nearest neighbors\n",
        "\n",
        "#trainSet includes the label in the first column\n",
        "#testSet does not include the first column\n",
        "def KNNtrain(trainSet, testSet, k):\n",
        "  nearest = np.zeros((testSet.shape[0],k))\n",
        "  nearestlabels = np.zeros((testSet.shape[0],k))\n",
        "  \n",
        "  \n",
        "  for i in range(testSet.shape[0]):\n",
        "    l2_dist = np.argsort(((testSet[i,:] - trainSet[:,1:])**2).sum(-1))\n",
        "    nearest[i,:] = l2_dist[0:k]\n",
        "  \n",
        "  for i in range(nearest.shape[0]):\n",
        "    for j in range(nearest.shape[1]):\n",
        "      nearestlabels[i,j] = trainSet[int(nearest[i,j]),0]\n",
        "  \n",
        "  \n",
        "  return(nearest, nearestlabels)"
      ],
      "execution_count": 0,
      "outputs": []
    },
    {
      "cell_type": "code",
      "metadata": {
        "id": "xeubyuzmwMvp",
        "colab_type": "code",
        "colab": {}
      },
      "source": [
        "#split training set into two halves\n",
        "trainSet = train.sample(frac = 0.5, random_state = 200)\n",
        "testSet = train.drop(trainSet.index)\n",
        "\n",
        "trainSet = trainSet.to_numpy()\n",
        "\n",
        "\n",
        "testSet = testSet.to_numpy()\n",
        "testActual = testSet[:,0]\n",
        "testSet = testSet[:,1:]\n",
        "\n"
      ],
      "execution_count": 0,
      "outputs": []
    },
    {
      "cell_type": "code",
      "metadata": {
        "id": "tS0IeXvzwxwF",
        "colab_type": "code",
        "colab": {}
      },
      "source": [
        "#run the knn algorithm on the prior created training and test sets\n",
        "neighbor, labels = KNNtrain(trainSet, testSet, k = 5)"
      ],
      "execution_count": 0,
      "outputs": []
    },
    {
      "cell_type": "code",
      "metadata": {
        "id": "x56F_SggdwU8",
        "colab_type": "code",
        "colab": {}
      },
      "source": [
        "#make a prediction based on the majority vote k nearest neighbors\n",
        "def KNNPred(labels):\n",
        "  \n",
        "  prediction = np.zeros(labels.shape[0])\n",
        "  for i in range(labels.shape[0]):\n",
        "    vote = stats.mode(labels[i,:])[0][0]\n",
        "    prediction[i] = vote\n",
        "  return prediction"
      ],
      "execution_count": 0,
      "outputs": []
    },
    {
      "cell_type": "markdown",
      "metadata": {
        "id": "Qn9WkZCnsraq",
        "colab_type": "text"
      },
      "source": [
        "###h) We now train the k-NN classifier on the first half of the data, and test it on the second half, reporting our average accuracy."
      ]
    },
    {
      "cell_type": "code",
      "metadata": {
        "id": "yhLfxbwDHpNc",
        "colab_type": "code",
        "colab": {}
      },
      "source": [
        "#run on knn model created from test and training datasets\n",
        "prediction = KNNPred(labels)"
      ],
      "execution_count": 0,
      "outputs": []
    },
    {
      "cell_type": "code",
      "metadata": {
        "id": "ZIZBYMGpIlsU",
        "colab_type": "code",
        "outputId": "1b62e1a5-5ed9-436d-9ab6-a6ac6e06488c",
        "colab": {
          "base_uri": "https://localhost:8080/",
          "height": 34
        }
      },
      "source": [
        "from sklearn.metrics import confusion_matrix\n",
        "\n",
        "#build confusion matrix from prediction and actual of test set\n",
        "cm = confusion_matrix(testActual, prediction)\n",
        "acc = np.trace(cm)/np.sum(cm)\n",
        "acc*100\n"
      ],
      "execution_count": 0,
      "outputs": [
        {
          "output_type": "execute_result",
          "data": {
            "text/plain": [
              "96.11428571428571"
            ]
          },
          "metadata": {
            "tags": []
          },
          "execution_count": 21
        }
      ]
    },
    {
      "cell_type": "markdown",
      "metadata": {
        "id": "Y-hHOCj-s-C6",
        "colab_type": "text"
      },
      "source": [
        "###i) 10x10 confusion matrix"
      ]
    },
    {
      "cell_type": "code",
      "metadata": {
        "id": "iHmBtKuCLv5N",
        "colab_type": "code",
        "outputId": "65eaba23-0af3-4396-9d4d-0d62a8b210d6",
        "colab": {
          "base_uri": "https://localhost:8080/",
          "height": 282
        }
      },
      "source": [
        "import seaborn as sns\n",
        "sns.set(font_scale = 0.9)\n",
        "conf_map = sns.heatmap(cm, annot = True, fmt='d')\n",
        "conf_map.set_title('Confusion Matrix Heatmap')\n",
        "plt.show()"
      ],
      "execution_count": 0,
      "outputs": [
        {
          "output_type": "display_data",
          "data": {
            "image/png": "[encoded data removed]",
            "text/plain": [
              "<Figure size 432x288 with 2 Axes>"
            ]
          },
          "metadata": {
            "tags": []
          }
        }
      ]
    },
    {
      "cell_type": "markdown",
      "metadata": {
        "id": "oqHibH3NU-SO",
        "colab_type": "text"
      },
      "source": [
        "###j) Training the classifier with all of the training data, and testing with the test data."
      ]
    },
    {
      "cell_type": "code",
      "metadata": {
        "id": "5JNF9eRUUpBr",
        "colab_type": "code",
        "colab": {}
      },
      "source": [
        "train = train.to_numpy()\n",
        "test = test.to_numpy()\n",
        "\n",
        "\n",
        "neighbor_final, labels_final = KNNtrain(train, test, k = 5)\n",
        "Label = KNNPred(labels_final)"
      ],
      "execution_count": 0,
      "outputs": []
    },
    {
      "cell_type": "code",
      "metadata": {
        "id": "2qgbUCUM4nDf",
        "colab_type": "code",
        "colab": {}
      },
      "source": [
        "ImageId = range(1, len(Label)+1)\n",
        "submit = pd.DataFrame({'ImageId': ImageId, 'Label': Label}, columns=['ImageId', 'Label'])\n",
        "submit.to_csv('submission_digit.csv', index = False)"
      ],
      "execution_count": 0,
      "outputs": []
    },
    {
      "cell_type": "markdown",
      "metadata": {
        "id": "WOIQ_Wbm4UQ9",
        "colab_type": "text"
      },
      "source": [
        "##2) The Titanic Disaster"
      ]
    },
    {
      "cell_type": "markdown",
      "metadata": {
        "id": "uQDH6F_9XM23",
        "colab_type": "text"
      },
      "source": [
        "###a)"
      ]
    },
    {
      "cell_type": "code",
      "metadata": {
        "id": "9Nr3Nd9D4Kg9",
        "colab_type": "code",
        "colab": {}
      },
      "source": [
        "train = pd.read_csv(\"/content/drive/My Drive/train_titanic.csv\")\n",
        "test = pd.read_csv(\"/content/drive/My Drive/test_titanic.csv\")"
      ],
      "execution_count": 0,
      "outputs": []
    },
    {
      "cell_type": "markdown",
      "metadata": {
        "id": "m4hdvQ5wXTel",
        "colab_type": "text"
      },
      "source": [
        "###b) Before we fit logistic regression, we should first make sure that the dataset does not have missing values"
      ]
    },
    {
      "cell_type": "code",
      "metadata": {
        "id": "19auPA_m4uld",
        "colab_type": "code",
        "outputId": "da0d99e6-f9d9-4c76-ccbf-337248d47cd7",
        "colab": {
          "base_uri": "https://localhost:8080/",
          "height": 238
        }
      },
      "source": [
        "#Checking for missing entries in the training set\n",
        "train.isnull().sum()"
      ],
      "execution_count": 44,
      "outputs": [
        {
          "output_type": "execute_result",
          "data": {
            "text/plain": [
              "PassengerId      0\n",
              "Survived         0\n",
              "Pclass           0\n",
              "Name             0\n",
              "Sex              0\n",
              "Age            177\n",
              "SibSp            0\n",
              "Parch            0\n",
              "Ticket           0\n",
              "Fare             0\n",
              "Cabin          687\n",
              "Embarked         2\n",
              "dtype: int64"
            ]
          },
          "metadata": {
            "tags": []
          },
          "execution_count": 44
        }
      ]
    },
    {
      "cell_type": "code",
      "metadata": {
        "id": "aNJ61Khp5DED",
        "colab_type": "code",
        "outputId": "b609ef0b-67f5-4ce8-faeb-1f6f2f712e11",
        "colab": {
          "base_uri": "https://localhost:8080/",
          "height": 283
        }
      },
      "source": [
        "axs = train[\"Age\"].hist(bins = 20, color = 'purple', alpha = 0.65)\n",
        "axs.set(xlabel='Age')\n",
        "plt.xlim(-5,85)\n",
        "plt.show()"
      ],
      "execution_count": 45,
      "outputs": [
        {
          "output_type": "display_data",
          "data": {
            "image/png": "[encoded data removed]",
            "text/plain": [
              "<Figure size 432x288 with 1 Axes>"
            ]
          },
          "metadata": {
            "tags": []
          }
        }
      ]
    },
    {
      "cell_type": "markdown",
      "metadata": {
        "id": "23ASOrRbjPPV",
        "colab_type": "text"
      },
      "source": [
        "### Percent of missing values for the three categories (Age, Cabin, Embarked)"
      ]
    },
    {
      "cell_type": "code",
      "metadata": {
        "id": "N9gcOFJajOY1",
        "colab_type": "code",
        "outputId": "27009b64-f37b-4199-c66c-fbcf6343e794",
        "colab": {
          "base_uri": "https://localhost:8080/",
          "height": 68
        }
      },
      "source": [
        "print('Percent of \"Age\" values that are missing: %.1f' %((train[\"Age\"].isnull().sum()/train[\"Age\"].shape[0])*100))\n",
        "print('Percent of \"Cabin\" values that are missing: %.1f' %((train[\"Cabin\"].isnull().sum()/train[\"Cabin\"].shape[0])*100))\n",
        "print('Percent of \"Embarked\" values that are missing: %.1f' %((train[\"Embarked\"].isnull().sum()/train[\"Embarked\"].shape[0])*100))"
      ],
      "execution_count": 46,
      "outputs": [
        {
          "output_type": "stream",
          "text": [
            "Percent of \"Age\" values that are missing: 19.9\n",
            "Percent of \"Cabin\" values that are missing: 77.1\n",
            "Percent of \"Embarked\" values that are missing: 0.2\n"
          ],
          "name": "stdout"
        }
      ]
    },
    {
      "cell_type": "markdown",
      "metadata": {
        "id": "o3jBkdAMXjrN",
        "colab_type": "text"
      },
      "source": [
        "###Since most of the \"Cabin\" values are missing (77%), we can drop this feature completely."
      ]
    },
    {
      "cell_type": "code",
      "metadata": {
        "id": "vKNED_c-7JsE",
        "colab_type": "code",
        "outputId": "f6f159d9-7b29-4752-be1b-31a96846aa8d",
        "colab": {
          "base_uri": "https://localhost:8080/",
          "height": 51
        }
      },
      "source": [
        "print('The mean of \"Age\" is %.2f' %(train[\"Age\"].mean(skipna = True)))\n",
        "print('The median of \"Age\" is %.2f' %(train[\"Age\"].median(skipna = True)))\n"
      ],
      "execution_count": 47,
      "outputs": [
        {
          "output_type": "stream",
          "text": [
            "The mean of \"Age\" is 29.70\n",
            "The median of \"Age\" is 28.00\n"
          ],
          "name": "stdout"
        }
      ]
    },
    {
      "cell_type": "markdown",
      "metadata": {
        "id": "XrguGBz7X3-4",
        "colab_type": "text"
      },
      "source": [
        "###We can use the median to impute the missing Age values, since from the graph above, it seems that the Age distribution is right-skewed. For the \"Embarked\" feature we just use the most common observation to fill out the missing values."
      ]
    },
    {
      "cell_type": "code",
      "metadata": {
        "id": "6XrHrA7-jycL",
        "colab_type": "code",
        "colab": {}
      },
      "source": [
        "train_imputed = train.copy()\n",
        "train_imputed[\"Age\"].fillna(train[\"Age\"].median(skipna = True), inplace = True)\n",
        "train_imputed[\"Embarked\"].fillna(train['Embarked'].value_counts().idxmax(), inplace = True)\n",
        "train_imputed.drop('Cabin', axis = 1, inplace = True)"
      ],
      "execution_count": 0,
      "outputs": []
    },
    {
      "cell_type": "markdown",
      "metadata": {
        "id": "OTjIkN8sOJLY",
        "colab_type": "text"
      },
      "source": [
        "###We can now produce some bar plots to study the relation between features and the response"
      ]
    },
    {
      "cell_type": "code",
      "metadata": {
        "id": "qsZ744YNOImF",
        "colab_type": "code",
        "colab": {
          "base_uri": "https://localhost:8080/",
          "height": 566
        },
        "outputId": "789436dd-014b-451e-acdd-e1dbd50ff139"
      },
      "source": [
        "import seaborn as sns\n",
        "\n",
        "sns.barplot('Embarked', 'Survived', data = train_imputed, color = \"orange\")\n",
        "plt.show()\n",
        "\n",
        "sns.barplot('Sex', 'Survived', data = train_imputed, color = \"aqua\")\n",
        "plt.show"
      ],
      "execution_count": 57,
      "outputs": [
        {
          "output_type": "display_data",
          "data": {
            "image/png": "[encoded data removed]",
            "text/plain": [
              "<Figure size 432x288 with 1 Axes>"
            ]
          },
          "metadata": {
            "tags": []
          }
        },
        {
          "output_type": "execute_result",
          "data": {
            "text/plain": [
              "<function matplotlib.pyplot.show>"
            ]
          },
          "metadata": {
            "tags": []
          },
          "execution_count": 57
        },
        {
          "output_type": "display_data",
          "data": {
            "image/png": "[encoded data removed]",
            "text/plain": [
              "<Figure size 432x288 with 1 Axes>"
            ]
          },
          "metadata": {
            "tags": []
          }
        }
      ]
    },
    {
      "cell_type": "markdown",
      "metadata": {
        "id": "hUxN02saYY8y",
        "colab_type": "text"
      },
      "source": [
        "###We must apply the same steps to the test set, so that the two sets have the same structure. Furthermore, the 1 missing \"Fare\" value is completed using the median."
      ]
    },
    {
      "cell_type": "code",
      "metadata": {
        "id": "mG7CRzAjJivz",
        "colab_type": "code",
        "outputId": "3d111e85-3dcc-4408-8c70-0203fc6a2e45",
        "colab": {
          "base_uri": "https://localhost:8080/",
          "height": 221
        }
      },
      "source": [
        "test.isnull().sum()"
      ],
      "execution_count": 58,
      "outputs": [
        {
          "output_type": "execute_result",
          "data": {
            "text/plain": [
              "PassengerId      0\n",
              "Pclass           0\n",
              "Name             0\n",
              "Sex              0\n",
              "Age             86\n",
              "SibSp            0\n",
              "Parch            0\n",
              "Ticket           0\n",
              "Fare             1\n",
              "Cabin          327\n",
              "Embarked         0\n",
              "dtype: int64"
            ]
          },
          "metadata": {
            "tags": []
          },
          "execution_count": 58
        }
      ]
    },
    {
      "cell_type": "code",
      "metadata": {
        "id": "sMVAQnjT9zfb",
        "colab_type": "code",
        "colab": {}
      },
      "source": [
        "test_imputed = test.copy()\n",
        "test_imputed[\"Age\"].fillna(test[\"Age\"].median(skipna = True), inplace = True)\n",
        "test_imputed[\"Embarked\"].fillna(train['Embarked'].value_counts().idxmax(), inplace = True)\n",
        "test_imputed.drop('Cabin', axis = 1, inplace=True)"
      ],
      "execution_count": 0,
      "outputs": []
    },
    {
      "cell_type": "markdown",
      "metadata": {
        "id": "swv7DD5t_5sD",
        "colab_type": "text"
      },
      "source": [
        "###Dropping variables"
      ]
    },
    {
      "cell_type": "code",
      "metadata": {
        "id": "3WBxCYkF_44a",
        "colab_type": "code",
        "colab": {}
      },
      "source": [
        "train_imputed.drop('Name', axis = 1, inplace = True)\n",
        "train_imputed.drop('Ticket', axis = 1 , inplace = True)\n",
        "train_imputed.drop('PassengerId', axis = 1 , inplace = True)\n",
        "\n",
        "train_imputed = pd.get_dummies(train_imputed, columns = ['Pclass','Sex','Embarked'], drop_first = True)\n"
      ],
      "execution_count": 0,
      "outputs": []
    },
    {
      "cell_type": "markdown",
      "metadata": {
        "id": "xqXQict4Yn7a",
        "colab_type": "text"
      },
      "source": [
        "###We combine 'SibSp' and 'Parch' to the new binary 'Alone' variable (0 if travelling alone and 1 if not)."
      ]
    },
    {
      "cell_type": "code",
      "metadata": {
        "id": "6nvaPGtDA9c3",
        "colab_type": "code",
        "colab": {}
      },
      "source": [
        "train_imputed['Alone'] = np.ceil((train_imputed['SibSp'] + train_imputed['Parch'])/2).astype(object)\n",
        "train_imputed.drop('SibSp', axis = 1, inplace = True)\n",
        "train_imputed.drop('Parch', axis = 1, inplace = True)"
      ],
      "execution_count": 0,
      "outputs": []
    },
    {
      "cell_type": "code",
      "metadata": {
        "id": "BCG589PNDvpV",
        "colab_type": "code",
        "colab": {}
      },
      "source": [
        "test_imputed.drop('Name', axis = 1, inplace = True)\n",
        "test_imputed.drop('Ticket', axis = 1 , inplace = True)\n",
        "test_imputed.drop('PassengerId', axis = 1 , inplace = True)\n",
        "\n"
      ],
      "execution_count": 0,
      "outputs": []
    },
    {
      "cell_type": "markdown",
      "metadata": {
        "id": "gEW-uCuBZJGu",
        "colab_type": "text"
      },
      "source": [
        "###Create dummy variables for the three categorical features, so we can fit the regression model. We further drop the first column of each new dummy variable to deal with potential collinearity issues."
      ]
    },
    {
      "cell_type": "code",
      "metadata": {
        "id": "ZvBI8FaXZIY-",
        "colab_type": "code",
        "colab": {}
      },
      "source": [
        "test_imputed = pd.get_dummies(test_imputed, columns = ['Pclass','Sex','Embarked'], drop_first = True)"
      ],
      "execution_count": 0,
      "outputs": []
    },
    {
      "cell_type": "code",
      "metadata": {
        "id": "LgPCi1d2DyVL",
        "colab_type": "code",
        "outputId": "9778118a-ea9e-4d03-e965-9ba5501b3360",
        "colab": {
          "base_uri": "https://localhost:8080/",
          "height": 204
        }
      },
      "source": [
        "test_imputed['Alone'] = np.ceil((test_imputed['SibSp'] + test_imputed['Parch'])/2).astype(object)\n",
        "test_imputed.drop('SibSp', axis = 1, inplace = True)\n",
        "test_imputed.drop('Parch', axis = 1, inplace = True)\n",
        "test_imputed.head()"
      ],
      "execution_count": 64,
      "outputs": [
        {
          "output_type": "execute_result",
          "data": {
            "text/html": [
              "<div>\n",
              "<style scoped>\n",
              "    .dataframe tbody tr th:only-of-type {\n",
              "        vertical-align: middle;\n",
              "    }\n",
              "\n",
              "    .dataframe tbody tr th {\n",
              "        vertical-align: top;\n",
              "    }\n",
              "\n",
              "    .dataframe thead th {\n",
              "        text-align: right;\n",
              "    }\n",
              "</style>\n",
              "<table border=\"1\" class=\"dataframe\">\n",
              "  <thead>\n",
              "    <tr style=\"text-align: right;\">\n",
              "      <th></th>\n",
              "      <th>Age</th>\n",
              "      <th>Fare</th>\n",
              "      <th>Pclass_2</th>\n",
              "      <th>Pclass_3</th>\n",
              "      <th>Sex_male</th>\n",
              "      <th>Embarked_Q</th>\n",
              "      <th>Embarked_S</th>\n",
              "      <th>Alone</th>\n",
              "    </tr>\n",
              "  </thead>\n",
              "  <tbody>\n",
              "    <tr>\n",
              "      <th>0</th>\n",
              "      <td>34.5</td>\n",
              "      <td>7.8292</td>\n",
              "      <td>0</td>\n",
              "      <td>1</td>\n",
              "      <td>1</td>\n",
              "      <td>1</td>\n",
              "      <td>0</td>\n",
              "      <td>0</td>\n",
              "    </tr>\n",
              "    <tr>\n",
              "      <th>1</th>\n",
              "      <td>47.0</td>\n",
              "      <td>7.0000</td>\n",
              "      <td>0</td>\n",
              "      <td>1</td>\n",
              "      <td>0</td>\n",
              "      <td>0</td>\n",
              "      <td>1</td>\n",
              "      <td>1</td>\n",
              "    </tr>\n",
              "    <tr>\n",
              "      <th>2</th>\n",
              "      <td>62.0</td>\n",
              "      <td>9.6875</td>\n",
              "      <td>1</td>\n",
              "      <td>0</td>\n",
              "      <td>1</td>\n",
              "      <td>1</td>\n",
              "      <td>0</td>\n",
              "      <td>0</td>\n",
              "    </tr>\n",
              "    <tr>\n",
              "      <th>3</th>\n",
              "      <td>27.0</td>\n",
              "      <td>8.6625</td>\n",
              "      <td>0</td>\n",
              "      <td>1</td>\n",
              "      <td>1</td>\n",
              "      <td>0</td>\n",
              "      <td>1</td>\n",
              "      <td>0</td>\n",
              "    </tr>\n",
              "    <tr>\n",
              "      <th>4</th>\n",
              "      <td>22.0</td>\n",
              "      <td>12.2875</td>\n",
              "      <td>0</td>\n",
              "      <td>1</td>\n",
              "      <td>0</td>\n",
              "      <td>0</td>\n",
              "      <td>1</td>\n",
              "      <td>1</td>\n",
              "    </tr>\n",
              "  </tbody>\n",
              "</table>\n",
              "</div>"
            ],
            "text/plain": [
              "    Age     Fare  Pclass_2  Pclass_3  Sex_male  Embarked_Q  Embarked_S Alone\n",
              "0  34.5   7.8292         0         1         1           1           0     0\n",
              "1  47.0   7.0000         0         1         0           0           1     1\n",
              "2  62.0   9.6875         1         0         1           1           0     0\n",
              "3  27.0   8.6625         0         1         1           0           1     0\n",
              "4  22.0  12.2875         0         1         0           0           1     1"
            ]
          },
          "metadata": {
            "tags": []
          },
          "execution_count": 64
        }
      ]
    },
    {
      "cell_type": "code",
      "metadata": {
        "id": "karFtNstzZik",
        "colab_type": "code",
        "outputId": "76956115-d4af-49ce-a839-097af25e5777",
        "colab": {
          "base_uri": "https://localhost:8080/",
          "height": 170
        }
      },
      "source": [
        "test_imputed[\"Fare\"].fillna(test[\"Fare\"].mean(skipna = True), inplace = True)\n",
        "test_imputed.isnull().sum()"
      ],
      "execution_count": 65,
      "outputs": [
        {
          "output_type": "execute_result",
          "data": {
            "text/plain": [
              "Age           0\n",
              "Fare          0\n",
              "Pclass_2      0\n",
              "Pclass_3      0\n",
              "Sex_male      0\n",
              "Embarked_Q    0\n",
              "Embarked_S    0\n",
              "Alone         0\n",
              "dtype: int64"
            ]
          },
          "metadata": {
            "tags": []
          },
          "execution_count": 65
        }
      ]
    },
    {
      "cell_type": "markdown",
      "metadata": {
        "id": "yCLUHfJWyRTf",
        "colab_type": "text"
      },
      "source": [
        "###Some more exploratory plots"
      ]
    },
    {
      "cell_type": "code",
      "metadata": {
        "id": "yA80YlHqx6li",
        "colab_type": "code",
        "colab": {
          "base_uri": "https://localhost:8080/",
          "height": 295
        },
        "outputId": "a0d939b7-8a7e-4a5e-c71f-468d6444a7f7"
      },
      "source": [
        "age_plot = sns.kdeplot(train_imputed[\"Age\"][train_imputed.Survived == 1], color=\"red\", shade = True)\n",
        "sns.kdeplot(train_imputed[\"Age\"][train_imputed.Survived == 0], color=\"blue\", shade = True)\n",
        "plt.legend(['Survived', 'Deceased'])\n",
        "plt.title('Density Plot of Age')\n",
        "age_plot.set(xlabel='Age')\n",
        "plt.xlim(-10,90)\n",
        "plt.show()"
      ],
      "execution_count": 66,
      "outputs": [
        {
          "output_type": "display_data",
          "data": {
            "image/png": "[encoded data removed]",
            "text/plain": [
              "<Figure size 432x288 with 1 Axes>"
            ]
          },
          "metadata": {
            "tags": []
          }
        }
      ]
    },
    {
      "cell_type": "code",
      "metadata": {
        "id": "sGAuZfspy3oh",
        "colab_type": "code",
        "colab": {
          "base_uri": "https://localhost:8080/",
          "height": 295
        },
        "outputId": "b952d7b4-7ee9-4ffc-ba25-2894a74c5857"
      },
      "source": [
        "fare_plot = sns.kdeplot(train_imputed[\"Fare\"][train_imputed.Survived == 1], color=\"red\", shade = True)\n",
        "sns.kdeplot(train_imputed[\"Fare\"][train_imputed.Survived == 0], color=\"blue\", shade = True)\n",
        "plt.legend(['Survived', 'Deceased'])\n",
        "plt.title('Density Plot of Fare')\n",
        "fare_plot.set(xlabel='Fare')\n",
        "plt.xlim(-10,90)\n",
        "plt.show()"
      ],
      "execution_count": 67,
      "outputs": [
        {
          "output_type": "display_data",
          "data": {
            "image/png": "[encoded data removed]",
            "text/plain": [
              "<Figure size 432x288 with 1 Axes>"
            ]
          },
          "metadata": {
            "tags": []
          }
        }
      ]
    },
    {
      "cell_type": "markdown",
      "metadata": {
        "id": "nZrZZ_yQZZPJ",
        "colab_type": "text"
      },
      "source": [
        "### c) Fitting Logistic Regression with all the training data"
      ]
    },
    {
      "cell_type": "code",
      "metadata": {
        "id": "Gritqsi6EMQx",
        "colab_type": "code",
        "outputId": "a19caf64-b136-44bd-8d25-e17b8926149e",
        "colab": {
          "base_uri": "https://localhost:8080/",
          "height": 156
        }
      },
      "source": [
        "from sklearn import linear_model\n",
        "\n",
        "x = train_imputed[['Age', 'Fare', 'Pclass_2', 'Pclass_3', 'Sex_male', 'Embarked_Q', 'Embarked_S', 'Alone']]\n",
        "y = train_imputed['Survived']\n",
        "\n",
        "lr = linear_model.LogisticRegression()\n",
        "lr.fit(x, y)\n"
      ],
      "execution_count": 43,
      "outputs": [
        {
          "output_type": "stream",
          "text": [
            "/usr/local/lib/python3.6/dist-packages/sklearn/linear_model/logistic.py:432: FutureWarning: Default solver will be changed to 'lbfgs' in 0.22. Specify a solver to silence this warning.\n",
            "  FutureWarning)\n"
          ],
          "name": "stderr"
        },
        {
          "output_type": "execute_result",
          "data": {
            "text/plain": [
              "LogisticRegression(C=1.0, class_weight=None, dual=False, fit_intercept=True,\n",
              "                   intercept_scaling=1, l1_ratio=None, max_iter=100,\n",
              "                   multi_class='warn', n_jobs=None, penalty='l2',\n",
              "                   random_state=None, solver='warn', tol=0.0001, verbose=0,\n",
              "                   warm_start=False)"
            ]
          },
          "metadata": {
            "tags": []
          },
          "execution_count": 43
        }
      ]
    },
    {
      "cell_type": "code",
      "metadata": {
        "id": "7xLtLS3i0005",
        "colab_type": "code",
        "outputId": "96837684-b58e-4884-848c-16d8da3ed2e4",
        "colab": {
          "base_uri": "https://localhost:8080/",
          "height": 34
        }
      },
      "source": [
        "from sklearn import metrics\n",
        "cm = metrics.confusion_matrix(y, lr.predict(x))\n",
        "acc = np.trace(cm)/cm.sum()\n",
        "print('Accuracy of the model is: %.1f' % (acc*100))"
      ],
      "execution_count": 44,
      "outputs": [
        {
          "output_type": "stream",
          "text": [
            "Accuracy of the model is: 80.2\n"
          ],
          "name": "stdout"
        }
      ]
    },
    {
      "cell_type": "markdown",
      "metadata": {
        "id": "U7TIkvIEtRen",
        "colab_type": "text"
      },
      "source": [
        "### Making the final prediction on the test set"
      ]
    },
    {
      "cell_type": "code",
      "metadata": {
        "id": "2APgnQKcC86Y",
        "colab_type": "code",
        "colab": {}
      },
      "source": [
        "from sklearn import metrics\n",
        "final_pred = lr.predict(test_imputed)\n",
        "final_pred\n",
        "submission = test[['PassengerId']]\n",
        "submission['Survived'] = pd.Series(final_pred)\n",
        "submission.to_csv('submission.csv', index = False)\n"
      ],
      "execution_count": 0,
      "outputs": []
    },
    {
      "cell_type": "markdown",
      "metadata": {
        "id": "KHjBljHHpx0G",
        "colab_type": "text"
      },
      "source": [
        "##Written Exercises"
      ]
    },
    {
      "cell_type": "markdown",
      "metadata": {
        "id": "kXIDGnaOAs6v",
        "colab_type": "text"
      },
      "source": [
        "###1) \n",
        "\n",
        "\\begin{align}\n",
        "Var[X-Y] = & E[(X-Y)^2]-E[X-Y]^2 \\\\\n",
        "= & E[X^2-2XY+Y^2] - E[X-Y]^2 \\\\\n",
        "=& E[X^2]-2E[XY]+E[Y^2] - E[X-Y]^2 \\hspace{0.3cm}\\text{by linearity of expectation} \\\\\n",
        "= & E[X^2] -2E[XY] + E[Y^2] - E[X-Y]E[X-Y] \\\\\n",
        "= & E[X^2] -2E[XY] + E[Y^2] - E[X]^2-E[Y]^2+2E[X]E[Y] \\\\\n",
        "= & (E[X^2]-E[X]^2) + (E[Y^2]-E[Y]^2) -2E[XY] +2E[X]E[Y] \\\\\n",
        "= & Var[X]+Var[Y] - 2*Cov[X,Y]\n",
        "\\end{align}"
      ]
    },
    {
      "cell_type": "markdown",
      "metadata": {
        "id": "Orj4AG_tg7lk",
        "colab_type": "text"
      },
      "source": [
        "###2)\n",
        "\n",
        "$P(Pos | Def) = .95$\n",
        "\n",
        "$P(Neg | Good) = .95$\n",
        "\n",
        "$P(Def) = .00001$\n",
        "\n",
        "### 2a)\n",
        "\n",
        "\\begin{align}\n",
        "P(Def | Pos) =& \\frac{P(Pos|Def)P(Def)}{P(Pos|Def)P(Def)+P(Pos|Good)P(Good)} \\\\ =&  \\frac{.95(.00001)}{.95(.00001)+.05(.99999)} \\\\ =&.00019\n",
        "\\end{align}\n"
      ]
    },
    {
      "cell_type": "markdown",
      "metadata": {
        "id": "oIRY3GU6jcCn",
        "colab_type": "text"
      },
      "source": [
        "###2b)\n",
        "\n",
        "Total Good: 9999900\n",
        "\n",
        "Total Bad: 100\n",
        "\n",
        "Good Thrown Away = $P(Pos|Good)*$Total Good\n",
        "= 499995\n",
        "\n",
        "Bad Shipped = $P(Neg|Bad)*$Total Bad = 5"
      ]
    },
    {
      "cell_type": "markdown",
      "metadata": {
        "id": "5ItbGFNJ2M-Q",
        "colab_type": "text"
      },
      "source": [
        "### 3a) \n",
        "\n",
        "Let's first consider the boundary cases. When $k = 1$, since $(x_i,y_i)$ is included, then the the prediction error would be zero. When $k = n$, everything is included and since the classes are balanced, we would have 50% chance getting it right. As we vary $k$ from $n$ to $1$, the $0-1$ prediction error on the training data will, although not smoothly, almost monotonically decrease. As we gradually increase the complexity of our model, the bias decreases while the variance increases. We therefore expect our classifier to overfit on the training set, reaching a perfect prediction rate when $k=1$."
      ]
    },
    {
      "cell_type": "markdown",
      "metadata": {
        "id": "PPIt9tQYlPxD",
        "colab_type": "text"
      },
      "source": [
        "###3b)\n",
        "As $k$ varies from $1$ to $n$ the validation error will first decrease and then increase again. This is because total error is a combination of the bias and variance. As $k$ increases the bias of the fit also incrases, however the variance goes down. The lowest total error will occur at the minimum of the combination of the two."
      ]
    },
    {
      "cell_type": "markdown",
      "metadata": {
        "id": "c5YZLA_VnAUR",
        "colab_type": "text"
      },
      "source": [
        "###3c)\n",
        "To avoid this you could weight each neighbor's vote based on how far they are from the point. The closer the neighbor is the more their vote could count."
      ]
    },
    {
      "cell_type": "markdown",
      "metadata": {
        "id": "o_A3sC0ndbW9",
        "colab_type": "text"
      },
      "source": [
        "![](https://https://drive.google.com/drive/u/0/folders/1Hb0yEVT8ioWHMPGZvoYKEgUjOKKnzk4_)"
      ]
    },
    {
      "cell_type": "markdown",
      "metadata": {
        "id": "VMU9a10h4SAR",
        "colab_type": "text"
      },
      "source": [
        "###3d) \n",
        "\n",
        "Memory constraints can occur here. If we are working in a high dimension, then the storage of large vectors and the calculation of the distance matrix can be very computationaly expensive. Secondly, the curse of dimensionality can play a big role. Suppose that we have so many features, that inevitably some of them are irrelevant for the classification problem. Suppose further that we're trying to predict whether an individual will develop heart disease. If, apart from the BMI and the blood pressure, we include much more irrelevant features, such as their shoe size and their income, then two observations that would be close in two dimensions (using BMI and blood pressure) can suddenly appear to be very far apart in a higher dimensional space."
      ]
    },
    {
      "cell_type": "markdown",
      "metadata": {
        "id": "qQvv2LYp23wJ",
        "colab_type": "text"
      },
      "source": [
        "###3ei)"
      ]
    },
    {
      "cell_type": "code",
      "metadata": {
        "id": "XcMs9ZhYyHzY",
        "colab_type": "code",
        "colab": {}
      },
      "source": [
        "log_train = pd.DataFrame([[6,3] , [3,8]], columns = ['true red' , 'true blue'],\n",
        "                        index = ['predicted red' , 'predicted blue'])\n",
        "\n",
        "log_test = pd.DataFrame([[3,1] , [2,4]], columns = ['true red' , 'true blue'],\n",
        "                        index = ['predicted red' , 'predicted blue'])\n",
        "\n",
        "log_train_acc = (log_train.iloc[0,0] + log_train.iloc[1,1])/log_train.to_numpy().sum()\n",
        "log_test_acc = (log_test.iloc[0,0] + log_test.iloc[1,1])/log_test.to_numpy().sum()"
      ],
      "execution_count": 0,
      "outputs": []
    },
    {
      "cell_type": "markdown",
      "metadata": {
        "id": "MLLblv6b3ih1",
        "colab_type": "text"
      },
      "source": [
        "###3eii)"
      ]
    },
    {
      "cell_type": "code",
      "metadata": {
        "id": "GDF3_mvIx1SC",
        "colab_type": "code",
        "colab": {}
      },
      "source": [
        "knn_train = pd.DataFrame([[5,4] , [4,7]], columns = ['true red' , 'true blue'],\n",
        "                        index = ['predicted red' , 'predicted blue'])\n",
        "\n",
        "knn_test = pd.DataFrame([[1,2] , [4,3]], columns = ['true red' , 'true blue'],\n",
        "                        index = ['predicted red' , 'predicted blue'])\n",
        "\n",
        "knn_train_acc = (knn_train.iloc[0,0] + knn_train.iloc[1,1])/knn_train.to_numpy().sum()\n",
        "knn_test_acc = (knn_test.iloc[0,0] + knn_test.iloc[1,1])/knn_test.to_numpy().sum()"
      ],
      "execution_count": 0,
      "outputs": []
    },
    {
      "cell_type": "markdown",
      "metadata": {
        "id": "wYBBsjWX3m90",
        "colab_type": "text"
      },
      "source": [
        "###3eiii)"
      ]
    },
    {
      "cell_type": "code",
      "metadata": {
        "id": "Mrgs669v1E_8",
        "colab_type": "code",
        "outputId": "f6c5089b-a020-4183-c228-4979f8553473",
        "colab": {
          "base_uri": "https://localhost:8080/",
          "height": 85
        }
      },
      "source": [
        "print(\"Log Algo Train Accuracy: \", log_train_acc)\n",
        "print(\"Log Algo Test Accuracy: \", log_test_acc)\n",
        "print(\"KNN Algo Train Accuracy: \", knn_train_acc)\n",
        "print(\"KNN Algo Test Accuracy: \", knn_test_acc)"
      ],
      "execution_count": 25,
      "outputs": [
        {
          "output_type": "stream",
          "text": [
            "Log Algo Train Accuracy:  0.7\n",
            "Log Algo Test Accuracy:  0.7\n",
            "KNN Algo Train Accuracy:  0.6\n",
            "KNN Algo Test Accuracy:  0.4\n"
          ],
          "name": "stdout"
        }
      ]
    },
    {
      "cell_type": "markdown",
      "metadata": {
        "id": "SRdFJIGn2zle",
        "colab_type": "text"
      },
      "source": [
        "The training accuracy for the logistic regression algorithm was slightly higher than for KNN with k = 1. However the test accuracy was much higher. This could be because with k=1, variance in a KNN algorithm is quite high, meaning a jagged boundary that can catch many test points on the wrong side. This can drive down the test error quite alot."
      ]
    }
  ]
}